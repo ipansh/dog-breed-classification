{
  "nbformat": 4,
  "nbformat_minor": 0,
  "metadata": {
    "interpreter": {
      "hash": "dca0ade3e726a953b501b15e8e990130d2b7799f14cfd9f4271676035ebe5511"
    },
    "kernelspec": {
      "display_name": "Python 3.7.4 64-bit ('base': conda)",
      "name": "python3"
    },
    "language_info": {
      "codemirror_mode": {
        "name": "ipython",
        "version": 3
      },
      "file_extension": ".py",
      "mimetype": "text/x-python",
      "name": "python",
      "nbconvert_exporter": "python",
      "pygments_lexer": "ipython3",
      "version": "3.7.4"
    },
    "colab": {
      "name": "2. Breed-Classification-Model-Training-(2021-07-25).ipynb",
      "provenance": [],
      "collapsed_sections": []
    },
    "accelerator": "GPU"
  },
  "cells": [
    {
      "cell_type": "code",
      "metadata": {
        "id": "2BMXINhKy523"
      },
      "source": [
        "import warnings\n",
        "warnings.simplefilter(action='ignore', category=FutureWarning)\n",
        "\n",
        "import pandas as pd\n",
        "import numpy as np\n",
        "\n",
        "from glob import glob\n",
        "import math\n",
        "\n",
        "# Import matplotlib\n",
        "import matplotlib.pyplot as plt\n",
        "from matplotlib.image import imread\n",
        "import plotly.express as px\n",
        "\n",
        "import keras\n",
        "\n",
        "import os # used for navigating to image path\n",
        "import imageio # used for writing images\n",
        "\n",
        "import datetime\n",
        "\n",
        "from PIL import Image\n",
        "from PIL import ImageFile\n",
        "\n",
        "##not sure why I need this but I do\n",
        "ImageFile.LOAD_TRUNCATED_IMAGES = True"
      ],
      "execution_count": 1,
      "outputs": []
    },
    {
      "cell_type": "code",
      "metadata": {
        "colab": {
          "base_uri": "https://localhost:8080/"
        },
        "id": "OnBBzBRlUt0o",
        "outputId": "a0d2229b-d7c1-49b0-9649-47baa22d46e1"
      },
      "source": [
        "from google.colab import drive\n",
        "drive.mount('/content/drive')"
      ],
      "execution_count": 2,
      "outputs": [
        {
          "output_type": "stream",
          "text": [
            "Mounted at /content/drive\n"
          ],
          "name": "stdout"
        }
      ]
    },
    {
      "cell_type": "code",
      "metadata": {
        "id": "X2UG3cr4jmQ2",
        "colab": {
          "base_uri": "https://localhost:8080/"
        },
        "outputId": "1836c956-6f5b-4997-d68c-81e32479b0b2"
      },
      "source": [
        "train_images = np.load('/content/drive/MyDrive/Dog Breed Classification/raw_data/train_images.npy')\n",
        "train_labels = np.load('/content/drive/MyDrive/Dog Breed Classification/raw_data/train_labels.npy')\n",
        "\n",
        "test_images = np.load('/content/drive/MyDrive/Dog Breed Classification/raw_data/test_images.npy')\n",
        "test_labels = np.load('/content/drive/MyDrive/Dog Breed Classification/raw_data/test_labels.npy')\n",
        "\n",
        "test_df = pd.read_csv('/content/drive/MyDrive/Dog Breed Classification/raw_data/test_df.csv')\n",
        "\n",
        "print(\"Shape of train image dataset: {}\".format(train_images.shape))\n",
        "print(\"Shape of test image dataset: {}\".format(test_images.shape))\n",
        "print(\"Shape of train label dataset: {}\".format(train_labels.shape))\n",
        "print(\"Shape of test label dataset: {}\".format(test_labels.shape))"
      ],
      "execution_count": 3,
      "outputs": [
        {
          "output_type": "stream",
          "text": [
            "Shape of train image dataset: (8981, 224, 224, 3)\n",
            "Shape of test image dataset: (2245, 224, 224, 3)\n",
            "Shape of train label dataset: (8981, 59)\n",
            "Shape of test label dataset: (2245, 59)\n"
          ],
          "name": "stdout"
        }
      ]
    },
    {
      "cell_type": "markdown",
      "metadata": {
        "id": "2kj_3v8YWQb1"
      },
      "source": [
        "## Custom-built CNN model"
      ]
    },
    {
      "cell_type": "markdown",
      "metadata": {
        "id": "RqLQQVLFWXlr"
      },
      "source": [
        "This is a custom-built CNN model"
      ]
    },
    {
      "cell_type": "code",
      "metadata": {
        "colab": {
          "base_uri": "https://localhost:8080/"
        },
        "id": "GrsV3QRmQRnE",
        "outputId": "7c19b789-97b0-4be3-8037-f68a1c533905"
      },
      "source": [
        "# Import the necessary components from Keras\n",
        "from keras.models import Sequential\n",
        "from keras.layers import Dense, Conv2D, Flatten, MaxPooling2D, Dropout\n",
        "\n",
        "# Initialize the model object\n",
        "benchmark_model = Sequential()\n",
        "\n",
        "# Add a convolutional layer\n",
        "benchmark_model.add(Conv2D(filters = 16, kernel_size=3, strides = 1,\n",
        "                 padding = 'same', activation='relu',\n",
        "                 input_shape=(224, 224, 3)))\n",
        "\n",
        "benchmark_model.add(MaxPooling2D(pool_size = 2))\n",
        "\n",
        "# Add a convolutional layer\n",
        "benchmark_model.add(Conv2D(filters = 32, kernel_size=3, strides = 1,\n",
        "                 padding = 'same', activation='relu'))\n",
        "\n",
        "benchmark_model.add(MaxPooling2D(pool_size = 2))\n",
        "\n",
        "benchmark_model.add(Dropout(0.2))\n",
        "\n",
        "benchmark_model.add(GlobalAveragePooling2D())\n",
        "\n",
        "benchmark_model.add(Dense(59, activation='softmax'))\n",
        "\n",
        "# Compile the model\n",
        "benchmark_model.compile(optimizer='adam', \n",
        "              loss='categorical_crossentropy', \n",
        "              metrics=['accuracy'])\n",
        "\n",
        "benchmark_model.summary()"
      ],
      "execution_count": 10,
      "outputs": [
        {
          "output_type": "stream",
          "text": [
            "Model: \"sequential_2\"\n",
            "_________________________________________________________________\n",
            "Layer (type)                 Output Shape              Param #   \n",
            "=================================================================\n",
            "conv2d_6 (Conv2D)            (None, 224, 224, 16)      448       \n",
            "_________________________________________________________________\n",
            "max_pooling2d_6 (MaxPooling2 (None, 112, 112, 16)      0         \n",
            "_________________________________________________________________\n",
            "conv2d_7 (Conv2D)            (None, 112, 112, 32)      4640      \n",
            "_________________________________________________________________\n",
            "max_pooling2d_7 (MaxPooling2 (None, 56, 56, 32)        0         \n",
            "_________________________________________________________________\n",
            "dropout_2 (Dropout)          (None, 56, 56, 32)        0         \n",
            "_________________________________________________________________\n",
            "global_average_pooling2d_1 ( (None, 32)                0         \n",
            "_________________________________________________________________\n",
            "dense_2 (Dense)              (None, 59)                1947      \n",
            "=================================================================\n",
            "Total params: 7,035\n",
            "Trainable params: 7,035\n",
            "Non-trainable params: 0\n",
            "_________________________________________________________________\n"
          ],
          "name": "stdout"
        }
      ]
    },
    {
      "cell_type": "code",
      "metadata": {
        "colab": {
          "base_uri": "https://localhost:8080/"
        },
        "id": "Dd15keW9Q8MM",
        "outputId": "0daee4df-2a34-4ea7-8e55-78bfc6f99765"
      },
      "source": [
        "training = benchmark_model.fit(train_images, train_labels,\n",
        "           batch_size = 50,\n",
        "           epochs = 15,\n",
        "           validation_split=0.2,\n",
        "           )"
      ],
      "execution_count": 11,
      "outputs": [
        {
          "output_type": "stream",
          "text": [
            "Epoch 1/15\n",
            "144/144 [==============================] - 5s 33ms/step - loss: 19.7498 - accuracy: 0.0200 - val_loss: 4.0806 - val_accuracy: 0.0211\n",
            "Epoch 2/15\n",
            "144/144 [==============================] - 4s 31ms/step - loss: 4.0762 - accuracy: 0.0244 - val_loss: 4.0789 - val_accuracy: 0.0178\n",
            "Epoch 3/15\n",
            "144/144 [==============================] - 4s 31ms/step - loss: 4.0710 - accuracy: 0.0204 - val_loss: 4.0760 - val_accuracy: 0.0211\n",
            "Epoch 4/15\n",
            "144/144 [==============================] - 4s 31ms/step - loss: 4.0682 - accuracy: 0.0234 - val_loss: 4.0747 - val_accuracy: 0.0245\n",
            "Epoch 5/15\n",
            "144/144 [==============================] - 4s 31ms/step - loss: 4.0567 - accuracy: 0.0295 - val_loss: 4.0716 - val_accuracy: 0.0178\n",
            "Epoch 6/15\n",
            "144/144 [==============================] - 4s 31ms/step - loss: 4.0533 - accuracy: 0.0227 - val_loss: 4.0574 - val_accuracy: 0.0334\n",
            "Epoch 7/15\n",
            "144/144 [==============================] - 4s 31ms/step - loss: 4.0421 - accuracy: 0.0307 - val_loss: 4.0523 - val_accuracy: 0.0284\n",
            "Epoch 8/15\n",
            "144/144 [==============================] - 5s 31ms/step - loss: 4.0310 - accuracy: 0.0327 - val_loss: 4.0451 - val_accuracy: 0.0317\n",
            "Epoch 9/15\n",
            "144/144 [==============================] - 5s 31ms/step - loss: 4.0206 - accuracy: 0.0329 - val_loss: 4.0410 - val_accuracy: 0.0306\n",
            "Epoch 10/15\n",
            "144/144 [==============================] - 5s 32ms/step - loss: 4.0087 - accuracy: 0.0396 - val_loss: 4.0231 - val_accuracy: 0.0317\n",
            "Epoch 11/15\n",
            "144/144 [==============================] - 5s 32ms/step - loss: 4.0033 - accuracy: 0.0429 - val_loss: 4.0179 - val_accuracy: 0.0351\n",
            "Epoch 12/15\n",
            "144/144 [==============================] - 5s 32ms/step - loss: 3.9959 - accuracy: 0.0379 - val_loss: 4.0128 - val_accuracy: 0.0328\n",
            "Epoch 13/15\n",
            "144/144 [==============================] - 5s 32ms/step - loss: 3.9771 - accuracy: 0.0416 - val_loss: 4.0008 - val_accuracy: 0.0351\n",
            "Epoch 14/15\n",
            "144/144 [==============================] - 5s 32ms/step - loss: 3.9588 - accuracy: 0.0427 - val_loss: 3.9780 - val_accuracy: 0.0406\n",
            "Epoch 15/15\n",
            "144/144 [==============================] - 5s 31ms/step - loss: 3.9141 - accuracy: 0.0548 - val_loss: 3.9692 - val_accuracy: 0.0356\n"
          ],
          "name": "stdout"
        }
      ]
    },
    {
      "cell_type": "code",
      "metadata": {
        "id": "IAR45p3Hy53D",
        "colab": {
          "base_uri": "https://localhost:8080/"
        },
        "outputId": "8c28d4f0-b430-4c4b-c2eb-a2781e8810b6"
      },
      "source": [
        "# Import the necessary components from Keras\n",
        "from keras.layers import MaxPooling2D, Dropout, GlobalAveragePooling2D, BatchNormalization\n",
        "\n",
        "\n",
        "# Initialize the model object\n",
        "model2 = Sequential()\n",
        "\n",
        "# Add a convolutional layer\n",
        "model2.add(Conv2D(filters = 16, kernel_size=3, strides = 1,\n",
        "                 padding = 'same', activation='relu',\n",
        "                 input_shape=(224, 224, 3)))\n",
        "\n",
        "model2.add(BatchNormalization())\n",
        "\n",
        "model2.add(MaxPooling2D(pool_size = 2))\n",
        "\n",
        "# Add a convolutional layer\n",
        "model2.add(Conv2D(filters = 32, kernel_size=3, strides = 1,\n",
        "                 padding = 'same', activation='relu'))\n",
        "\n",
        "model2.add(BatchNormalization())\n",
        "\n",
        "model2.add(MaxPooling2D(pool_size = 2))\n",
        "\n",
        "# Add a convolutional layer\n",
        "model2.add(Conv2D(filters = 64, kernel_size=3, strides = 1,\n",
        "                 padding = 'same', activation='relu'))\n",
        "\n",
        "model2.add(BatchNormalization())\n",
        "\n",
        "model2.add(MaxPooling2D(pool_size = 2))\n",
        "\n",
        "# Add a convolutional layer\n",
        "model2.add(Conv2D(filters = 128, kernel_size=3, strides = 1,\n",
        "                 padding = 'same', activation='relu'))\n",
        "\n",
        "model2.add(BatchNormalization())\n",
        "\n",
        "model2.add(MaxPooling2D(pool_size = 4))\n",
        "\n",
        "model2.add(Dropout(0.2))\n",
        "\n",
        "model2.add(GlobalAveragePooling2D())\n",
        "\n",
        "model2.add(Dense(59, activation='softmax'))\n",
        "\n",
        "# Compile the model\n",
        "model2.compile(optimizer='adam', \n",
        "              loss='categorical_crossentropy', \n",
        "              metrics=['accuracy'])\n",
        "\n",
        "model2.summary()"
      ],
      "execution_count": 12,
      "outputs": [
        {
          "output_type": "stream",
          "text": [
            "Model: \"sequential_3\"\n",
            "_________________________________________________________________\n",
            "Layer (type)                 Output Shape              Param #   \n",
            "=================================================================\n",
            "conv2d_8 (Conv2D)            (None, 224, 224, 16)      448       \n",
            "_________________________________________________________________\n",
            "batch_normalization_4 (Batch (None, 224, 224, 16)      64        \n",
            "_________________________________________________________________\n",
            "max_pooling2d_8 (MaxPooling2 (None, 112, 112, 16)      0         \n",
            "_________________________________________________________________\n",
            "conv2d_9 (Conv2D)            (None, 112, 112, 32)      4640      \n",
            "_________________________________________________________________\n",
            "batch_normalization_5 (Batch (None, 112, 112, 32)      128       \n",
            "_________________________________________________________________\n",
            "max_pooling2d_9 (MaxPooling2 (None, 56, 56, 32)        0         \n",
            "_________________________________________________________________\n",
            "conv2d_10 (Conv2D)           (None, 56, 56, 64)        18496     \n",
            "_________________________________________________________________\n",
            "batch_normalization_6 (Batch (None, 56, 56, 64)        256       \n",
            "_________________________________________________________________\n",
            "max_pooling2d_10 (MaxPooling (None, 28, 28, 64)        0         \n",
            "_________________________________________________________________\n",
            "conv2d_11 (Conv2D)           (None, 28, 28, 128)       73856     \n",
            "_________________________________________________________________\n",
            "batch_normalization_7 (Batch (None, 28, 28, 128)       512       \n",
            "_________________________________________________________________\n",
            "max_pooling2d_11 (MaxPooling (None, 7, 7, 128)         0         \n",
            "_________________________________________________________________\n",
            "dropout_3 (Dropout)          (None, 7, 7, 128)         0         \n",
            "_________________________________________________________________\n",
            "global_average_pooling2d_2 ( (None, 128)               0         \n",
            "_________________________________________________________________\n",
            "dense_3 (Dense)              (None, 59)                7611      \n",
            "=================================================================\n",
            "Total params: 106,011\n",
            "Trainable params: 105,531\n",
            "Non-trainable params: 480\n",
            "_________________________________________________________________\n"
          ],
          "name": "stdout"
        }
      ]
    },
    {
      "cell_type": "code",
      "metadata": {
        "id": "Dwwr5dLky53E",
        "colab": {
          "base_uri": "https://localhost:8080/"
        },
        "outputId": "1363217f-8a92-4457-93ad-26ddc44e436c"
      },
      "source": [
        "# Import EarlyStopping\n",
        "from keras.callbacks import EarlyStopping\n",
        "\n",
        "# Define early_stopping_monitor\n",
        "early_stopping_monitor = EarlyStopping(patience = 3)\n",
        "\n",
        "training = model2.fit(train_images, train_labels,\n",
        "          batch_size = 50,\n",
        "          epochs = 30,\n",
        "          validation_split=0.2,\n",
        "          callbacks = [early_stopping_monitor]\n",
        "          )"
      ],
      "execution_count": 13,
      "outputs": [
        {
          "output_type": "stream",
          "text": [
            "Epoch 1/30\n",
            "144/144 [==============================] - 10s 57ms/step - loss: 4.2952 - accuracy: 0.0288 - val_loss: 4.1420 - val_accuracy: 0.0334\n",
            "Epoch 2/30\n",
            "144/144 [==============================] - 8s 54ms/step - loss: 3.9485 - accuracy: 0.0527 - val_loss: 4.1039 - val_accuracy: 0.0390\n",
            "Epoch 3/30\n",
            "144/144 [==============================] - 8s 54ms/step - loss: 3.8312 - accuracy: 0.0731 - val_loss: 3.8969 - val_accuracy: 0.0545\n",
            "Epoch 4/30\n",
            "144/144 [==============================] - 8s 54ms/step - loss: 3.7001 - accuracy: 0.0940 - val_loss: 4.3817 - val_accuracy: 0.0568\n",
            "Epoch 5/30\n",
            "144/144 [==============================] - 8s 54ms/step - loss: 3.5796 - accuracy: 0.1154 - val_loss: 3.9180 - val_accuracy: 0.0490\n",
            "Epoch 6/30\n",
            "144/144 [==============================] - 8s 54ms/step - loss: 3.4128 - accuracy: 0.1512 - val_loss: 3.6443 - val_accuracy: 0.1002\n",
            "Epoch 7/30\n",
            "144/144 [==============================] - 8s 54ms/step - loss: 3.2135 - accuracy: 0.1717 - val_loss: 3.5135 - val_accuracy: 0.1102\n",
            "Epoch 8/30\n",
            "144/144 [==============================] - 8s 54ms/step - loss: 3.0474 - accuracy: 0.2173 - val_loss: 3.4560 - val_accuracy: 0.1480\n",
            "Epoch 9/30\n",
            "144/144 [==============================] - 8s 55ms/step - loss: 2.8838 - accuracy: 0.2500 - val_loss: 3.3018 - val_accuracy: 0.1658\n",
            "Epoch 10/30\n",
            "144/144 [==============================] - 8s 55ms/step - loss: 2.7570 - accuracy: 0.2847 - val_loss: 3.2271 - val_accuracy: 0.1658\n",
            "Epoch 11/30\n",
            "144/144 [==============================] - 8s 55ms/step - loss: 2.5757 - accuracy: 0.3186 - val_loss: 3.2526 - val_accuracy: 0.1797\n",
            "Epoch 12/30\n",
            "144/144 [==============================] - 8s 55ms/step - loss: 2.4297 - accuracy: 0.3638 - val_loss: 3.7027 - val_accuracy: 0.1408\n",
            "Epoch 13/30\n",
            "144/144 [==============================] - 8s 55ms/step - loss: 2.2938 - accuracy: 0.3796 - val_loss: 3.2205 - val_accuracy: 0.1725\n",
            "Epoch 14/30\n",
            "144/144 [==============================] - 8s 55ms/step - loss: 2.1451 - accuracy: 0.4341 - val_loss: 3.2672 - val_accuracy: 0.1898\n",
            "Epoch 15/30\n",
            "144/144 [==============================] - 8s 55ms/step - loss: 1.9806 - accuracy: 0.4758 - val_loss: 3.4310 - val_accuracy: 0.1903\n",
            "Epoch 16/30\n",
            "144/144 [==============================] - 8s 55ms/step - loss: 1.8418 - accuracy: 0.5032 - val_loss: 3.5448 - val_accuracy: 0.1603\n"
          ],
          "name": "stdout"
        }
      ]
    },
    {
      "cell_type": "code",
      "metadata": {
        "colab": {
          "base_uri": "https://localhost:8080/",
          "height": 545
        },
        "id": "SE0Wyic8o1Og",
        "outputId": "d94f03bd-b827-4213-8990-812e031d865a"
      },
      "source": [
        "training_history_df = pd.DataFrame(training.history)\n",
        "training_history_df = training_history_df.reset_index().rename(columns = {'index':'epoch'})\n",
        "\n",
        "training_history_df.loc[:,('epoch')] = [epoch+1 for epoch in training_history_df['epoch']]\n",
        "training_history_df"
      ],
      "execution_count": 14,
      "outputs": [
        {
          "output_type": "execute_result",
          "data": {
            "text/html": [
              "<div>\n",
              "<style scoped>\n",
              "    .dataframe tbody tr th:only-of-type {\n",
              "        vertical-align: middle;\n",
              "    }\n",
              "\n",
              "    .dataframe tbody tr th {\n",
              "        vertical-align: top;\n",
              "    }\n",
              "\n",
              "    .dataframe thead th {\n",
              "        text-align: right;\n",
              "    }\n",
              "</style>\n",
              "<table border=\"1\" class=\"dataframe\">\n",
              "  <thead>\n",
              "    <tr style=\"text-align: right;\">\n",
              "      <th></th>\n",
              "      <th>epoch</th>\n",
              "      <th>loss</th>\n",
              "      <th>accuracy</th>\n",
              "      <th>val_loss</th>\n",
              "      <th>val_accuracy</th>\n",
              "    </tr>\n",
              "  </thead>\n",
              "  <tbody>\n",
              "    <tr>\n",
              "      <th>0</th>\n",
              "      <td>1</td>\n",
              "      <td>4.120932</td>\n",
              "      <td>0.034800</td>\n",
              "      <td>4.141954</td>\n",
              "      <td>0.033389</td>\n",
              "    </tr>\n",
              "    <tr>\n",
              "      <th>1</th>\n",
              "      <td>2</td>\n",
              "      <td>3.928614</td>\n",
              "      <td>0.052756</td>\n",
              "      <td>4.103938</td>\n",
              "      <td>0.038954</td>\n",
              "    </tr>\n",
              "    <tr>\n",
              "      <th>2</th>\n",
              "      <td>3</td>\n",
              "      <td>3.814764</td>\n",
              "      <td>0.078369</td>\n",
              "      <td>3.896911</td>\n",
              "      <td>0.054535</td>\n",
              "    </tr>\n",
              "    <tr>\n",
              "      <th>3</th>\n",
              "      <td>4</td>\n",
              "      <td>3.690879</td>\n",
              "      <td>0.094933</td>\n",
              "      <td>4.381652</td>\n",
              "      <td>0.056761</td>\n",
              "    </tr>\n",
              "    <tr>\n",
              "      <th>4</th>\n",
              "      <td>5</td>\n",
              "      <td>3.556292</td>\n",
              "      <td>0.120128</td>\n",
              "      <td>3.918045</td>\n",
              "      <td>0.048971</td>\n",
              "    </tr>\n",
              "    <tr>\n",
              "      <th>5</th>\n",
              "      <td>6</td>\n",
              "      <td>3.385653</td>\n",
              "      <td>0.154788</td>\n",
              "      <td>3.644290</td>\n",
              "      <td>0.100167</td>\n",
              "    </tr>\n",
              "    <tr>\n",
              "      <th>6</th>\n",
              "      <td>7</td>\n",
              "      <td>3.208677</td>\n",
              "      <td>0.178870</td>\n",
              "      <td>3.513505</td>\n",
              "      <td>0.110184</td>\n",
              "    </tr>\n",
              "    <tr>\n",
              "      <th>7</th>\n",
              "      <td>8</td>\n",
              "      <td>3.063331</td>\n",
              "      <td>0.211303</td>\n",
              "      <td>3.455977</td>\n",
              "      <td>0.148024</td>\n",
              "    </tr>\n",
              "    <tr>\n",
              "      <th>8</th>\n",
              "      <td>9</td>\n",
              "      <td>2.894655</td>\n",
              "      <td>0.245128</td>\n",
              "      <td>3.301786</td>\n",
              "      <td>0.165832</td>\n",
              "    </tr>\n",
              "    <tr>\n",
              "      <th>9</th>\n",
              "      <td>10</td>\n",
              "      <td>2.755295</td>\n",
              "      <td>0.276030</td>\n",
              "      <td>3.227085</td>\n",
              "      <td>0.165832</td>\n",
              "    </tr>\n",
              "    <tr>\n",
              "      <th>10</th>\n",
              "      <td>11</td>\n",
              "      <td>2.598606</td>\n",
              "      <td>0.311804</td>\n",
              "      <td>3.252582</td>\n",
              "      <td>0.179744</td>\n",
              "    </tr>\n",
              "    <tr>\n",
              "      <th>11</th>\n",
              "      <td>12</td>\n",
              "      <td>2.451263</td>\n",
              "      <td>0.351336</td>\n",
              "      <td>3.702722</td>\n",
              "      <td>0.140790</td>\n",
              "    </tr>\n",
              "    <tr>\n",
              "      <th>12</th>\n",
              "      <td>13</td>\n",
              "      <td>2.307006</td>\n",
              "      <td>0.381125</td>\n",
              "      <td>3.220507</td>\n",
              "      <td>0.172510</td>\n",
              "    </tr>\n",
              "    <tr>\n",
              "      <th>13</th>\n",
              "      <td>14</td>\n",
              "      <td>2.165721</td>\n",
              "      <td>0.423719</td>\n",
              "      <td>3.267228</td>\n",
              "      <td>0.189761</td>\n",
              "    </tr>\n",
              "    <tr>\n",
              "      <th>14</th>\n",
              "      <td>15</td>\n",
              "      <td>2.006779</td>\n",
              "      <td>0.464922</td>\n",
              "      <td>3.431044</td>\n",
              "      <td>0.190317</td>\n",
              "    </tr>\n",
              "    <tr>\n",
              "      <th>15</th>\n",
              "      <td>16</td>\n",
              "      <td>1.884142</td>\n",
              "      <td>0.493875</td>\n",
              "      <td>3.544772</td>\n",
              "      <td>0.160267</td>\n",
              "    </tr>\n",
              "  </tbody>\n",
              "</table>\n",
              "</div>"
            ],
            "text/plain": [
              "    epoch      loss  accuracy  val_loss  val_accuracy\n",
              "0       1  4.120932  0.034800  4.141954      0.033389\n",
              "1       2  3.928614  0.052756  4.103938      0.038954\n",
              "2       3  3.814764  0.078369  3.896911      0.054535\n",
              "3       4  3.690879  0.094933  4.381652      0.056761\n",
              "4       5  3.556292  0.120128  3.918045      0.048971\n",
              "5       6  3.385653  0.154788  3.644290      0.100167\n",
              "6       7  3.208677  0.178870  3.513505      0.110184\n",
              "7       8  3.063331  0.211303  3.455977      0.148024\n",
              "8       9  2.894655  0.245128  3.301786      0.165832\n",
              "9      10  2.755295  0.276030  3.227085      0.165832\n",
              "10     11  2.598606  0.311804  3.252582      0.179744\n",
              "11     12  2.451263  0.351336  3.702722      0.140790\n",
              "12     13  2.307006  0.381125  3.220507      0.172510\n",
              "13     14  2.165721  0.423719  3.267228      0.189761\n",
              "14     15  2.006779  0.464922  3.431044      0.190317\n",
              "15     16  1.884142  0.493875  3.544772      0.160267"
            ]
          },
          "metadata": {
            "tags": []
          },
          "execution_count": 14
        }
      ]
    },
    {
      "cell_type": "code",
      "metadata": {
        "id": "rYXHN8o0y53F",
        "colab": {
          "base_uri": "https://localhost:8080/",
          "height": 404
        },
        "outputId": "299ba359-2b35-43cc-b54f-d9cbfc4d6d05"
      },
      "source": [
        "fig = plt.figure(figsize=(10, 6))\n",
        "ax = plt.axes()\n",
        "\n",
        "plt.plot(list(range(1,17)), training.history['loss'], color='green', label=\"Train\")\n",
        "plt.plot(list(range(1,17)), training.history['val_loss'], color='blue', label=\"Validate\")\n",
        "\n",
        "plt.xlabel(\"Epoch\")\n",
        "plt.ylabel(\"Loss\")\n",
        "plt.title(\"Loss per Epoch\")\n",
        "\n",
        "plt.legend(loc='best')\n",
        "plt.show()"
      ],
      "execution_count": 15,
      "outputs": [
        {
          "output_type": "display_data",
          "data": {
            "image/png": "[encoded data removed]",
            "text/plain": [
              "<Figure size 720x432 with 1 Axes>"
            ]
          },
          "metadata": {
            "tags": [],
            "needs_background": "light"
          }
        }
      ]
    },
    {
      "cell_type": "code",
      "metadata": {
        "id": "g-TjNHJ8y53G",
        "colab": {
          "base_uri": "https://localhost:8080/"
        },
        "outputId": "e11872ff-175b-4cef-ddf4-877100bbe08c"
      },
      "source": [
        "## original model result\n",
        "model2.evaluate(test_images, test_labels)"
      ],
      "execution_count": 16,
      "outputs": [
        {
          "output_type": "stream",
          "text": [
            "71/71 [==============================] - 1s 12ms/step - loss: 3.4496 - accuracy: 0.1755\n"
          ],
          "name": "stdout"
        },
        {
          "output_type": "execute_result",
          "data": {
            "text/plain": [
              "[3.4495813846588135, 0.17550110816955566]"
            ]
          },
          "metadata": {
            "tags": []
          },
          "execution_count": 16
        }
      ]
    },
    {
      "cell_type": "code",
      "metadata": {
        "colab": {
          "base_uri": "https://localhost:8080/"
        },
        "id": "rXj4LPRZ-yJF",
        "outputId": "dd9688bc-5ac4-4106-fb00-26929356e8f1"
      },
      "source": [
        "len(label_df[label_df['breed_label'] == label_df['pred_labels']])/len(label_df)"
      ],
      "execution_count": null,
      "outputs": [
        {
          "output_type": "execute_result",
          "data": {
            "text/plain": [
              "0.1977728285077951"
            ]
          },
          "metadata": {
            "tags": []
          },
          "execution_count": 13
        }
      ]
    },
    {
      "cell_type": "markdown",
      "metadata": {
        "id": "JrKbhNP4xcby"
      },
      "source": [
        "## Transfer Learning with VGG16"
      ]
    },
    {
      "cell_type": "code",
      "metadata": {
        "colab": {
          "base_uri": "https://localhost:8080/"
        },
        "id": "EuZI7Mf8xbCp",
        "outputId": "aedc4ed2-137d-42a1-e42a-a13d643585c6"
      },
      "source": [
        "# example of tending the vgg16 model\n",
        "from keras.applications.vgg16 import VGG16\n",
        "from keras.models import Model\n",
        "from keras.layers import Dense\n",
        "from keras.layers import Flatten\n",
        "\n",
        "# load model without classifier layers\n",
        "vgg16_model = VGG16(include_top=False, input_shape=(224, 224, 3))\n",
        "\n",
        "for layer in vgg16_model.layers:\n",
        "\tlayer.trainable = False\n",
        "\n",
        "# add new classifier layers\n",
        "flat1 = Flatten()(vgg16_model.layers[-1].output)\n",
        "class1 = Dense(1024, activation='relu')(flat1)\n",
        "output = Dense(59, activation='softmax')(class1)\n",
        "# define new model\n",
        "vgg16_model = Model(inputs=vgg16_model.inputs, outputs=output)\n",
        "\n",
        "# Compile the model\n",
        "vgg16_model.compile(optimizer='adam', \n",
        "              loss='categorical_crossentropy', \n",
        "              metrics=['accuracy'])\n",
        "\n",
        "# summarize\n",
        "vgg16_model.summary()"
      ],
      "execution_count": 18,
      "outputs": [
        {
          "output_type": "stream",
          "text": [
            "Downloading data from https://storage.googleapis.com/tensorflow/keras-applications/vgg16/vgg16_weights_tf_dim_ordering_tf_kernels_notop.h5\n",
            "58892288/58889256 [==============================] - 0s 0us/step\n",
            "58900480/58889256 [==============================] - 0s 0us/step\n",
            "Model: \"model\"\n",
            "_________________________________________________________________\n",
            "Layer (type)                 Output Shape              Param #   \n",
            "=================================================================\n",
            "input_1 (InputLayer)         [(None, 224, 224, 3)]     0         \n",
            "_________________________________________________________________\n",
            "block1_conv1 (Conv2D)        (None, 224, 224, 64)      1792      \n",
            "_________________________________________________________________\n",
            "block1_conv2 (Conv2D)        (None, 224, 224, 64)      36928     \n",
            "_________________________________________________________________\n",
            "block1_pool (MaxPooling2D)   (None, 112, 112, 64)      0         \n",
            "_________________________________________________________________\n",
            "block2_conv1 (Conv2D)        (None, 112, 112, 128)     73856     \n",
            "_________________________________________________________________\n",
            "block2_conv2 (Conv2D)        (None, 112, 112, 128)     147584    \n",
            "_________________________________________________________________\n",
            "block2_pool (MaxPooling2D)   (None, 56, 56, 128)       0         \n",
            "_________________________________________________________________\n",
            "block3_conv1 (Conv2D)        (None, 56, 56, 256)       295168    \n",
            "_________________________________________________________________\n",
            "block3_conv2 (Conv2D)        (None, 56, 56, 256)       590080    \n",
            "_________________________________________________________________\n",
            "block3_conv3 (Conv2D)        (None, 56, 56, 256)       590080    \n",
            "_________________________________________________________________\n",
            "block3_pool (MaxPooling2D)   (None, 28, 28, 256)       0         \n",
            "_________________________________________________________________\n",
            "block4_conv1 (Conv2D)        (None, 28, 28, 512)       1180160   \n",
            "_________________________________________________________________\n",
            "block4_conv2 (Conv2D)        (None, 28, 28, 512)       2359808   \n",
            "_________________________________________________________________\n",
            "block4_conv3 (Conv2D)        (None, 28, 28, 512)       2359808   \n",
            "_________________________________________________________________\n",
            "block4_pool (MaxPooling2D)   (None, 14, 14, 512)       0         \n",
            "_________________________________________________________________\n",
            "block5_conv1 (Conv2D)        (None, 14, 14, 512)       2359808   \n",
            "_________________________________________________________________\n",
            "block5_conv2 (Conv2D)        (None, 14, 14, 512)       2359808   \n",
            "_________________________________________________________________\n",
            "block5_conv3 (Conv2D)        (None, 14, 14, 512)       2359808   \n",
            "_________________________________________________________________\n",
            "block5_pool (MaxPooling2D)   (None, 7, 7, 512)         0         \n",
            "_________________________________________________________________\n",
            "flatten (Flatten)            (None, 25088)             0         \n",
            "_________________________________________________________________\n",
            "dense_4 (Dense)              (None, 1024)              25691136  \n",
            "_________________________________________________________________\n",
            "dense_5 (Dense)              (None, 59)                60475     \n",
            "=================================================================\n",
            "Total params: 40,466,299\n",
            "Trainable params: 25,751,611\n",
            "Non-trainable params: 14,714,688\n",
            "_________________________________________________________________\n"
          ],
          "name": "stdout"
        }
      ]
    },
    {
      "cell_type": "code",
      "metadata": {
        "colab": {
          "base_uri": "https://localhost:8080/"
        },
        "id": "FoFs_qqLxbVg",
        "outputId": "f334d44f-758b-44b9-c0e3-4ccd70d9f74b"
      },
      "source": [
        "# Import EarlyStopping\n",
        "from keras.callbacks import EarlyStopping\n",
        "\n",
        "# Define early_stopping_monitor\n",
        "early_stopping_monitor = EarlyStopping(patience = 3)\n",
        "\n",
        "training = vgg16_model.fit(train_images, train_labels,\n",
        "          batch_size = 50,\n",
        "          epochs = 30,\n",
        "          validation_split=0.2,\n",
        "          callbacks = [early_stopping_monitor]\n",
        "          )"
      ],
      "execution_count": 19,
      "outputs": [
        {
          "output_type": "stream",
          "text": [
            "Epoch 1/30\n",
            "144/144 [==============================] - 61s 359ms/step - loss: 69.4765 - accuracy: 0.1345 - val_loss: 3.5243 - val_accuracy: 0.1703\n",
            "Epoch 2/30\n",
            "144/144 [==============================] - 38s 266ms/step - loss: 2.6984 - accuracy: 0.3268 - val_loss: 3.4437 - val_accuracy: 0.2593\n",
            "Epoch 3/30\n",
            "144/144 [==============================] - 39s 271ms/step - loss: 1.7665 - accuracy: 0.5470 - val_loss: 3.3822 - val_accuracy: 0.3166\n",
            "Epoch 4/30\n",
            "144/144 [==============================] - 40s 276ms/step - loss: 1.2149 - accuracy: 0.6766 - val_loss: 3.5033 - val_accuracy: 0.3723\n",
            "Epoch 5/30\n",
            "144/144 [==============================] - 40s 276ms/step - loss: 0.8954 - accuracy: 0.7557 - val_loss: 3.4925 - val_accuracy: 0.3901\n",
            "Epoch 6/30\n",
            "144/144 [==============================] - 40s 277ms/step - loss: 0.6763 - accuracy: 0.8221 - val_loss: 4.0095 - val_accuracy: 0.3740\n"
          ],
          "name": "stdout"
        }
      ]
    },
    {
      "cell_type": "code",
      "metadata": {
        "id": "PD9RQHpZVbsL",
        "outputId": "d437d500-ca99-4114-e9a7-405c12dd9167",
        "colab": {
          "base_uri": "https://localhost:8080/"
        }
      },
      "source": [
        "## original model result\n",
        "vgg16_model.evaluate(test_images, test_labels)"
      ],
      "execution_count": 22,
      "outputs": [
        {
          "output_type": "stream",
          "text": [
            "71/71 [==============================] - 8s 118ms/step - loss: 4.0363 - accuracy: 0.3586\n"
          ],
          "name": "stdout"
        },
        {
          "output_type": "execute_result",
          "data": {
            "text/plain": [
              "[4.036268711090088, 0.35857459902763367]"
            ]
          },
          "metadata": {
            "tags": []
          },
          "execution_count": 22
        }
      ]
    },
    {
      "cell_type": "code",
      "metadata": {
        "id": "tceKYLsbx2nd"
      },
      "source": [
        "import tensorflow as tf\n",
        "tf.keras.models.save_model(vgg16_model, '/content/drive/MyDrive/Dog Breed Classification/vgg16_model_assets/breeds_trained_model.h5')"
      ],
      "execution_count": null,
      "outputs": []
    }
  ]
}