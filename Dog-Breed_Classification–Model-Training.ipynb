{
  "nbformat": 4,
  "nbformat_minor": 0,
  "metadata": {
    "interpreter": {
      "hash": "dca0ade3e726a953b501b15e8e990130d2b7799f14cfd9f4271676035ebe5511"
    },
    "kernelspec": {
      "display_name": "Python 3.7.4 64-bit ('base': conda)",
      "name": "python3"
    },
    "language_info": {
      "codemirror_mode": {
        "name": "ipython",
        "version": 3
      },
      "file_extension": ".py",
      "mimetype": "text/x-python",
      "name": "python",
      "nbconvert_exporter": "python",
      "pygments_lexer": "ipython3",
      "version": "3.7.4"
    },
    "colab": {
      "name": "Dog_Breed_Classification_–_Model_Training_(2021_07_12).ipynb",
      "provenance": [],
      "include_colab_link": true
    },
    "accelerator": "GPU"
  },
  "cells": [
    {
      "cell_type": "markdown",
      "metadata": {
        "id": "view-in-github",
        "colab_type": "text"
      },
      "source": [
        "<a href=\"https://colab.research.google.com/github/ipansh/dog_breed_classification/blob/main/Dog-Breed_Classification%E2%80%93Model-Training.ipynb\" target=\"_parent\"><img src=\"https://colab.research.google.com/assets/colab-badge.svg\" alt=\"Open In Colab\"/></a>"
      ]
    },
    {
      "cell_type": "code",
      "metadata": {
        "id": "2BMXINhKy523"
      },
      "source": [
        "import warnings\n",
        "warnings.simplefilter(action='ignore', category=FutureWarning)\n",
        "\n",
        "import pandas as pd\n",
        "import numpy as np\n",
        "\n",
        "from glob import glob\n",
        "import math\n",
        "\n",
        "# Import matplotlib\n",
        "import matplotlib.pyplot as plt\n",
        "from matplotlib.image import imread\n",
        "import plotly.express as px\n",
        "\n",
        "import keras\n",
        "\n",
        "from keras.applications.vgg16 import VGG16\n",
        "from keras.preprocessing.image import load_img\n",
        "from keras.preprocessing.image import img_to_array\n",
        "from keras.applications.vgg16 import preprocess_input\n",
        "from keras.applications.vgg16 import decode_predictions\n",
        "\n",
        "import os # used for navigating to image path\n",
        "import imageio # used for writing images\n",
        "\n",
        "import datetime\n",
        "\n",
        "from PIL import Image\n",
        "from PIL import ImageFile\n",
        "\n",
        "##not sure why I need this but I do\n",
        "ImageFile.LOAD_TRUNCATED_IMAGES = True"
      ],
      "execution_count": 1,
      "outputs": []
    },
    {
      "cell_type": "code",
      "metadata": {
        "colab": {
          "base_uri": "https://localhost:8080/"
        },
        "id": "OnBBzBRlUt0o",
        "outputId": "dcec5a21-25c9-445f-964e-3393435c65ad"
      },
      "source": [
        "from google.colab import drive\n",
        "drive.mount('/content/drive')"
      ],
      "execution_count": 2,
      "outputs": [
        {
          "output_type": "stream",
          "text": [
            "Drive already mounted at /content/drive; to attempt to forcibly remount, call drive.mount(\"/content/drive\", force_remount=True).\n"
          ],
          "name": "stdout"
        }
      ]
    },
    {
      "cell_type": "code",
      "metadata": {
        "id": "X2UG3cr4jmQ2",
        "colab": {
          "base_uri": "https://localhost:8080/"
        },
        "outputId": "397a85be-2930-465e-b697-a76e48a96c5d"
      },
      "source": [
        "train_images = np.load('/content/drive/MyDrive/Dog Breed Classification/raw_data/train_images3.npy')\n",
        "train_labels = np.load('/content/drive/MyDrive/Dog Breed Classification/raw_data/train_labels3.npy')\n",
        "\n",
        "train_label_names = pd.read_csv('/content/drive/MyDrive/Dog Breed Classification/raw_data/train_label_names.csv')\n",
        "\n",
        "test_images = np.load('/content/drive/MyDrive/Dog Breed Classification/raw_data/test_images3.npy')\n",
        "test_labels = np.load('/content/drive/MyDrive/Dog Breed Classification/raw_data/test_labels3.npy')\n",
        "\n",
        "test_label_names = pd.read_csv('/content/drive/MyDrive/Dog Breed Classification/raw_data/test_label_names.csv')\n",
        "\n",
        "print(\"Shape of train image dataset: {}\".format(train_images.shape))\n",
        "print(\"Shape of test image dataset: {}\".format(test_images.shape))\n",
        "print(\"Shape of train label dataset: {}\".format(train_labels.shape))\n",
        "print(\"Shape of test label dataset: {}\".format(test_labels.shape))"
      ],
      "execution_count": 3,
      "outputs": [
        {
          "output_type": "stream",
          "text": [
            "Shape of train image dataset: (8981, 400, 400, 1)\n",
            "Shape of test image dataset: (2245, 400, 400, 1)\n",
            "Shape of train label dataset: (8981, 59)\n",
            "Shape of test label dataset: (2245, 59)\n"
          ],
          "name": "stdout"
        }
      ]
    },
    {
      "cell_type": "code",
      "metadata": {
        "id": "IAR45p3Hy53D",
        "colab": {
          "base_uri": "https://localhost:8080/"
        },
        "outputId": "8294843a-e173-4a87-bf79-9272fa12b68e"
      },
      "source": [
        "# Import the necessary components from Keras\n",
        "from keras.models import Sequential\n",
        "from keras.layers import Dense, Conv2D, Flatten, MaxPooling2D, Dropout, GlobalAveragePooling2D, BatchNormalization\n",
        "\n",
        "\n",
        "# Initialize the model object\n",
        "model = Sequential()\n",
        "\n",
        "# Add a convolutional layer\n",
        "model.add(Conv2D(filters = 16, kernel_size=3, strides = 1,\n",
        "                 padding = 'same', activation='relu',\n",
        "                 input_shape=(400, 400, 1)))\n",
        "\n",
        "model.add(BatchNormalization())\n",
        "\n",
        "model.add(MaxPooling2D(pool_size = 2))\n",
        "\n",
        "# Add a convolutional layer\n",
        "model.add(Conv2D(filters = 32, kernel_size=3, strides = 1,\n",
        "                 padding = 'same', activation='relu'))\n",
        "\n",
        "model.add(BatchNormalization())\n",
        "\n",
        "model.add(MaxPooling2D(pool_size = 2))\n",
        "\n",
        "# Add a convolutional layer\n",
        "model.add(Conv2D(filters = 64, kernel_size=3, strides = 1,\n",
        "                 padding = 'same', activation='relu'))\n",
        "\n",
        "model.add(BatchNormalization())\n",
        "\n",
        "model.add(MaxPooling2D(pool_size = 2))\n",
        "\n",
        "# Add a convolutional layer\n",
        "model.add(Conv2D(filters = 128, kernel_size=3, strides = 1,\n",
        "                 padding = 'same', activation='relu'))\n",
        "\n",
        "model.add(BatchNormalization())\n",
        "\n",
        "model.add(MaxPooling2D(pool_size = 4))\n",
        "\n",
        "model.add(Dropout(0.2))\n",
        "\n",
        "model.add(GlobalAveragePooling2D())\n",
        "\n",
        "model.add(Dense(59, activation='softmax'))\n",
        "\n",
        "# Compile the model\n",
        "model.compile(optimizer='adam', \n",
        "              loss='categorical_crossentropy', \n",
        "              metrics=['accuracy'])\n",
        "\n",
        "model_3 = model\n",
        "\n",
        "model_3.summary()"
      ],
      "execution_count": 15,
      "outputs": [
        {
          "output_type": "stream",
          "text": [
            "Model: \"sequential_3\"\n",
            "_________________________________________________________________\n",
            "Layer (type)                 Output Shape              Param #   \n",
            "=================================================================\n",
            "conv2d_8 (Conv2D)            (None, 400, 400, 16)      160       \n",
            "_________________________________________________________________\n",
            "batch_normalization (BatchNo (None, 400, 400, 16)      64        \n",
            "_________________________________________________________________\n",
            "max_pooling2d_7 (MaxPooling2 (None, 200, 200, 16)      0         \n",
            "_________________________________________________________________\n",
            "conv2d_9 (Conv2D)            (None, 200, 200, 32)      4640      \n",
            "_________________________________________________________________\n",
            "batch_normalization_1 (Batch (None, 200, 200, 32)      128       \n",
            "_________________________________________________________________\n",
            "max_pooling2d_8 (MaxPooling2 (None, 100, 100, 32)      0         \n",
            "_________________________________________________________________\n",
            "conv2d_10 (Conv2D)           (None, 100, 100, 64)      18496     \n",
            "_________________________________________________________________\n",
            "batch_normalization_2 (Batch (None, 100, 100, 64)      256       \n",
            "_________________________________________________________________\n",
            "max_pooling2d_9 (MaxPooling2 (None, 50, 50, 64)        0         \n",
            "_________________________________________________________________\n",
            "conv2d_11 (Conv2D)           (None, 50, 50, 128)       73856     \n",
            "_________________________________________________________________\n",
            "batch_normalization_3 (Batch (None, 50, 50, 128)       512       \n",
            "_________________________________________________________________\n",
            "max_pooling2d_10 (MaxPooling (None, 12, 12, 128)       0         \n",
            "_________________________________________________________________\n",
            "dropout_2 (Dropout)          (None, 12, 12, 128)       0         \n",
            "_________________________________________________________________\n",
            "global_average_pooling2d_2 ( (None, 128)               0         \n",
            "_________________________________________________________________\n",
            "dense_2 (Dense)              (None, 59)                7611      \n",
            "=================================================================\n",
            "Total params: 105,723\n",
            "Trainable params: 105,243\n",
            "Non-trainable params: 480\n",
            "_________________________________________________________________\n"
          ],
          "name": "stdout"
        }
      ]
    },
    {
      "cell_type": "code",
      "metadata": {
        "id": "Dwwr5dLky53E",
        "colab": {
          "base_uri": "https://localhost:8080/"
        },
        "outputId": "fea8f266-7999-43ad-dc7f-5a591a0fd940"
      },
      "source": [
        "# Import EarlyStopping\n",
        "from keras.callbacks import EarlyStopping\n",
        "\n",
        "# Define early_stopping_monitor\n",
        "early_stopping_monitor = EarlyStopping(patience = 3)\n",
        "\n",
        "training = model_3.fit(train_images, train_labels,\n",
        "          batch_size = 50,\n",
        "          epochs = 15,\n",
        "          validation_split=0.2,\n",
        "          #callbacks = [early_stopping_monitor]\n",
        "          )"
      ],
      "execution_count": 18,
      "outputs": [
        {
          "output_type": "stream",
          "text": [
            "Epoch 1/15\n",
            "144/144 [==============================] - 24s 167ms/step - loss: 3.8265 - accuracy: 0.0745 - val_loss: 3.9930 - val_accuracy: 0.0451\n",
            "Epoch 2/15\n",
            "144/144 [==============================] - 24s 169ms/step - loss: 3.7464 - accuracy: 0.0906 - val_loss: 4.0208 - val_accuracy: 0.0445\n",
            "Epoch 3/15\n",
            "144/144 [==============================] - 24s 169ms/step - loss: 3.6011 - accuracy: 0.1116 - val_loss: 4.0714 - val_accuracy: 0.0506\n",
            "Epoch 4/15\n",
            "144/144 [==============================] - 25s 170ms/step - loss: 3.4715 - accuracy: 0.1335 - val_loss: 4.0873 - val_accuracy: 0.0790\n",
            "Epoch 5/15\n",
            "144/144 [==============================] - 25s 172ms/step - loss: 3.3453 - accuracy: 0.1565 - val_loss: 3.7296 - val_accuracy: 0.0885\n",
            "Epoch 6/15\n",
            "144/144 [==============================] - 25s 172ms/step - loss: 3.1881 - accuracy: 0.1860 - val_loss: 5.5470 - val_accuracy: 0.0646\n",
            "Epoch 7/15\n",
            "144/144 [==============================] - 25s 172ms/step - loss: 3.0737 - accuracy: 0.2145 - val_loss: 3.3403 - val_accuracy: 0.1569\n",
            "Epoch 8/15\n",
            "144/144 [==============================] - 25s 172ms/step - loss: 2.9202 - accuracy: 0.2476 - val_loss: 3.6901 - val_accuracy: 0.1330\n",
            "Epoch 9/15\n",
            "144/144 [==============================] - 25s 172ms/step - loss: 2.8029 - accuracy: 0.2762 - val_loss: 3.6177 - val_accuracy: 0.1230\n",
            "Epoch 10/15\n",
            "144/144 [==============================] - 25s 172ms/step - loss: 2.6751 - accuracy: 0.3047 - val_loss: 3.2054 - val_accuracy: 0.1914\n",
            "Epoch 11/15\n",
            "144/144 [==============================] - 25s 172ms/step - loss: 2.5502 - accuracy: 0.3293 - val_loss: 5.0903 - val_accuracy: 0.1024\n",
            "Epoch 12/15\n",
            "144/144 [==============================] - 25s 172ms/step - loss: 2.4327 - accuracy: 0.3636 - val_loss: 3.4060 - val_accuracy: 0.1625\n",
            "Epoch 13/15\n",
            "144/144 [==============================] - 25s 171ms/step - loss: 2.3213 - accuracy: 0.3928 - val_loss: 3.3882 - val_accuracy: 0.1564\n",
            "Epoch 14/15\n",
            "144/144 [==============================] - 25s 171ms/step - loss: 2.1867 - accuracy: 0.4375 - val_loss: 3.8040 - val_accuracy: 0.1369\n",
            "Epoch 15/15\n",
            "144/144 [==============================] - 25s 171ms/step - loss: 2.0931 - accuracy: 0.4530 - val_loss: 4.0447 - val_accuracy: 0.1525\n"
          ],
          "name": "stdout"
        }
      ]
    },
    {
      "cell_type": "code",
      "metadata": {
        "colab": {
          "base_uri": "https://localhost:8080/",
          "height": 514
        },
        "id": "SE0Wyic8o1Og",
        "outputId": "dbdb550c-2a89-455e-8b4d-12ed3d9e814d"
      },
      "source": [
        "training_history_df = pd.DataFrame(training.history)\n",
        "training_history_df = training_history_df.reset_index().rename(columns = {'index':'epoch'})\n",
        "\n",
        "training_history_df.loc[:,('epoch')] = [epoch+1 for epoch in training_history_df['epoch']]\n",
        "training_history_df"
      ],
      "execution_count": 6,
      "outputs": [
        {
          "output_type": "execute_result",
          "data": {
            "text/html": [
              "<div>\n",
              "<style scoped>\n",
              "    .dataframe tbody tr th:only-of-type {\n",
              "        vertical-align: middle;\n",
              "    }\n",
              "\n",
              "    .dataframe tbody tr th {\n",
              "        vertical-align: top;\n",
              "    }\n",
              "\n",
              "    .dataframe thead th {\n",
              "        text-align: right;\n",
              "    }\n",
              "</style>\n",
              "<table border=\"1\" class=\"dataframe\">\n",
              "  <thead>\n",
              "    <tr style=\"text-align: right;\">\n",
              "      <th></th>\n",
              "      <th>epoch</th>\n",
              "      <th>loss</th>\n",
              "      <th>accuracy</th>\n",
              "      <th>val_loss</th>\n",
              "      <th>val_accuracy</th>\n",
              "    </tr>\n",
              "  </thead>\n",
              "  <tbody>\n",
              "    <tr>\n",
              "      <th>0</th>\n",
              "      <td>1</td>\n",
              "      <td>4.907633</td>\n",
              "      <td>0.019627</td>\n",
              "      <td>4.075109</td>\n",
              "      <td>0.023929</td>\n",
              "    </tr>\n",
              "    <tr>\n",
              "      <th>1</th>\n",
              "      <td>2</td>\n",
              "      <td>4.069524</td>\n",
              "      <td>0.024220</td>\n",
              "      <td>4.065854</td>\n",
              "      <td>0.026155</td>\n",
              "    </tr>\n",
              "    <tr>\n",
              "      <th>2</th>\n",
              "      <td>3</td>\n",
              "      <td>4.061160</td>\n",
              "      <td>0.023524</td>\n",
              "      <td>4.059832</td>\n",
              "      <td>0.026711</td>\n",
              "    </tr>\n",
              "    <tr>\n",
              "      <th>3</th>\n",
              "      <td>4</td>\n",
              "      <td>4.049701</td>\n",
              "      <td>0.031180</td>\n",
              "      <td>4.053900</td>\n",
              "      <td>0.035615</td>\n",
              "    </tr>\n",
              "    <tr>\n",
              "      <th>4</th>\n",
              "      <td>5</td>\n",
              "      <td>4.034964</td>\n",
              "      <td>0.035496</td>\n",
              "      <td>4.037846</td>\n",
              "      <td>0.043406</td>\n",
              "    </tr>\n",
              "    <tr>\n",
              "      <th>5</th>\n",
              "      <td>6</td>\n",
              "      <td>4.022604</td>\n",
              "      <td>0.037166</td>\n",
              "      <td>4.030305</td>\n",
              "      <td>0.042849</td>\n",
              "    </tr>\n",
              "    <tr>\n",
              "      <th>6</th>\n",
              "      <td>7</td>\n",
              "      <td>4.004013</td>\n",
              "      <td>0.043291</td>\n",
              "      <td>4.010800</td>\n",
              "      <td>0.047301</td>\n",
              "    </tr>\n",
              "    <tr>\n",
              "      <th>7</th>\n",
              "      <td>8</td>\n",
              "      <td>3.988712</td>\n",
              "      <td>0.051225</td>\n",
              "      <td>4.005884</td>\n",
              "      <td>0.048971</td>\n",
              "    </tr>\n",
              "    <tr>\n",
              "      <th>8</th>\n",
              "      <td>9</td>\n",
              "      <td>3.972409</td>\n",
              "      <td>0.049415</td>\n",
              "      <td>4.007536</td>\n",
              "      <td>0.040067</td>\n",
              "    </tr>\n",
              "    <tr>\n",
              "      <th>9</th>\n",
              "      <td>10</td>\n",
              "      <td>3.956200</td>\n",
              "      <td>0.052478</td>\n",
              "      <td>3.981012</td>\n",
              "      <td>0.053979</td>\n",
              "    </tr>\n",
              "    <tr>\n",
              "      <th>10</th>\n",
              "      <td>11</td>\n",
              "      <td>3.939131</td>\n",
              "      <td>0.053313</td>\n",
              "      <td>3.970099</td>\n",
              "      <td>0.053979</td>\n",
              "    </tr>\n",
              "    <tr>\n",
              "      <th>11</th>\n",
              "      <td>12</td>\n",
              "      <td>3.918690</td>\n",
              "      <td>0.060830</td>\n",
              "      <td>3.959546</td>\n",
              "      <td>0.050083</td>\n",
              "    </tr>\n",
              "    <tr>\n",
              "      <th>12</th>\n",
              "      <td>13</td>\n",
              "      <td>3.901381</td>\n",
              "      <td>0.064866</td>\n",
              "      <td>3.953107</td>\n",
              "      <td>0.054535</td>\n",
              "    </tr>\n",
              "    <tr>\n",
              "      <th>13</th>\n",
              "      <td>14</td>\n",
              "      <td>3.882015</td>\n",
              "      <td>0.060830</td>\n",
              "      <td>4.014227</td>\n",
              "      <td>0.043962</td>\n",
              "    </tr>\n",
              "    <tr>\n",
              "      <th>14</th>\n",
              "      <td>15</td>\n",
              "      <td>3.865891</td>\n",
              "      <td>0.066954</td>\n",
              "      <td>3.910479</td>\n",
              "      <td>0.060100</td>\n",
              "    </tr>\n",
              "  </tbody>\n",
              "</table>\n",
              "</div>"
            ],
            "text/plain": [
              "    epoch      loss  accuracy  val_loss  val_accuracy\n",
              "0       1  4.907633  0.019627  4.075109      0.023929\n",
              "1       2  4.069524  0.024220  4.065854      0.026155\n",
              "2       3  4.061160  0.023524  4.059832      0.026711\n",
              "3       4  4.049701  0.031180  4.053900      0.035615\n",
              "4       5  4.034964  0.035496  4.037846      0.043406\n",
              "5       6  4.022604  0.037166  4.030305      0.042849\n",
              "6       7  4.004013  0.043291  4.010800      0.047301\n",
              "7       8  3.988712  0.051225  4.005884      0.048971\n",
              "8       9  3.972409  0.049415  4.007536      0.040067\n",
              "9      10  3.956200  0.052478  3.981012      0.053979\n",
              "10     11  3.939131  0.053313  3.970099      0.053979\n",
              "11     12  3.918690  0.060830  3.959546      0.050083\n",
              "12     13  3.901381  0.064866  3.953107      0.054535\n",
              "13     14  3.882015  0.060830  4.014227      0.043962\n",
              "14     15  3.865891  0.066954  3.910479      0.060100"
            ]
          },
          "metadata": {
            "tags": []
          },
          "execution_count": 6
        }
      ]
    },
    {
      "cell_type": "code",
      "metadata": {
        "id": "rYXHN8o0y53F",
        "colab": {
          "base_uri": "https://localhost:8080/",
          "height": 404
        },
        "outputId": "e1cfa7e1-b937-4305-d42b-f2d6b984512d"
      },
      "source": [
        "fig = plt.figure(figsize=(10, 6))\n",
        "ax = plt.axes()\n",
        "\n",
        "plt.plot(list(range(1,16)), training.history['loss'], color='green', label=\"Train\")\n",
        "plt.plot(list(range(1,16)), training.history['val_loss'], color='blue', label=\"Validate\")\n",
        "\n",
        "plt.xlabel(\"Epoch\")\n",
        "plt.ylabel(\"Loss\")\n",
        "plt.title(\"Loss per Epoch\")\n",
        "\n",
        "plt.legend(loc='best')\n",
        "plt.show()"
      ],
      "execution_count": null,
      "outputs": [
        {
          "output_type": "display_data",
          "data": {
            "image/png": "[encoded data removed]",
            "text/plain": [
              "<Figure size 720x432 with 1 Axes>"
            ]
          },
          "metadata": {
            "tags": [],
            "needs_background": "light"
          }
        }
      ]
    },
    {
      "cell_type": "code",
      "metadata": {
        "id": "g-TjNHJ8y53G",
        "colab": {
          "base_uri": "https://localhost:8080/"
        },
        "outputId": "83b12990-36b0-425e-c5a9-455c1fafdce8"
      },
      "source": [
        "## original model result\n",
        "test1 = model_1.evaluate(test_images, test_labels)\n",
        "print(test1)\n",
        "\n",
        "## more epochs and early stopping callback\n",
        "test2 = model_2.evaluate(test_images, test_labels)\n",
        "print(test2)"
      ],
      "execution_count": 13,
      "outputs": [
        {
          "output_type": "stream",
          "text": [
            "71/71 [==============================] - 2s 24ms/step - loss: 3.9027 - accuracy: 0.0552\n",
            "[3.9026999473571777, 0.05523385480046272]\n",
            "71/71 [==============================] - 2s 27ms/step - loss: 3.8095 - accuracy: 0.0918\n",
            "[3.809455394744873, 0.09175946563482285]\n"
          ],
          "name": "stdout"
        }
      ]
    },
    {
      "cell_type": "code",
      "metadata": {
        "colab": {
          "base_uri": "https://localhost:8080/",
          "height": 419
        },
        "id": "EHFt2olxct8P",
        "outputId": "a7ec9f01-01d5-4414-91cf-8857aa7d36ab"
      },
      "source": [
        "y_probs = model_2.predict(test_images)\n",
        "\n",
        "## importing column labels\n",
        "column_labels = pd.read_csv('/content/drive/MyDrive/Dog Breed Classification/raw_data/test_label_names.csv')\\\n",
        "                  .drop(columns = ['Unnamed: 0']).columns.to_list()\n",
        "\n",
        "y_probs_df = pd.DataFrame(y_probs, columns = column_labels)\n",
        "\n",
        "## creating a dataframe with true labels\n",
        "true_label_df = pd.read_csv('/content/drive/MyDrive/Dog Breed Classification/raw_data/test_true_labels.npy')[['breed_label']]\n",
        "\n",
        "#merging predicted labels to true labels\n",
        "predicted_vs_true_df = predicted_label_df.merge(true_label_df, left_index = True, right_index = True)\n",
        "predicted_vs_true_df"
      ],
      "execution_count": 63,
      "outputs": [
        {
          "output_type": "execute_result",
          "data": {
            "text/html": [
              "<div>\n",
              "<style scoped>\n",
              "    .dataframe tbody tr th:only-of-type {\n",
              "        vertical-align: middle;\n",
              "    }\n",
              "\n",
              "    .dataframe tbody tr th {\n",
              "        vertical-align: top;\n",
              "    }\n",
              "\n",
              "    .dataframe thead th {\n",
              "        text-align: right;\n",
              "    }\n",
              "</style>\n",
              "<table border=\"1\" class=\"dataframe\">\n",
              "  <thead>\n",
              "    <tr style=\"text-align: right;\">\n",
              "      <th></th>\n",
              "      <th>label_prediction</th>\n",
              "      <th>breed_label</th>\n",
              "    </tr>\n",
              "  </thead>\n",
              "  <tbody>\n",
              "    <tr>\n",
              "      <th>0</th>\n",
              "      <td>Rhodesian_ridgeback</td>\n",
              "      <td>Great_Pyrenees</td>\n",
              "    </tr>\n",
              "    <tr>\n",
              "      <th>1</th>\n",
              "      <td>Rhodesian_ridgeback</td>\n",
              "      <td>Airedale</td>\n",
              "    </tr>\n",
              "    <tr>\n",
              "      <th>2</th>\n",
              "      <td>Japanese_spaniel</td>\n",
              "      <td>miniature_pinscher</td>\n",
              "    </tr>\n",
              "    <tr>\n",
              "      <th>3</th>\n",
              "      <td>Rhodesian_ridgeback</td>\n",
              "      <td>Maltese_dog</td>\n",
              "    </tr>\n",
              "    <tr>\n",
              "      <th>4</th>\n",
              "      <td>chow</td>\n",
              "      <td>Boston_bull</td>\n",
              "    </tr>\n",
              "    <tr>\n",
              "      <th>...</th>\n",
              "      <td>...</td>\n",
              "      <td>...</td>\n",
              "    </tr>\n",
              "    <tr>\n",
              "      <th>2240</th>\n",
              "      <td>African_hunting_dog</td>\n",
              "      <td>Labrador_retriever</td>\n",
              "    </tr>\n",
              "    <tr>\n",
              "      <th>2241</th>\n",
              "      <td>Australian_terrier</td>\n",
              "      <td>Lhasa</td>\n",
              "    </tr>\n",
              "    <tr>\n",
              "      <th>2242</th>\n",
              "      <td>miniature_pinscher</td>\n",
              "      <td>Irish_terrier</td>\n",
              "    </tr>\n",
              "    <tr>\n",
              "      <th>2243</th>\n",
              "      <td>Australian_terrier</td>\n",
              "      <td>beagle</td>\n",
              "    </tr>\n",
              "    <tr>\n",
              "      <th>2244</th>\n",
              "      <td>EntleBucher</td>\n",
              "      <td>Leonberg</td>\n",
              "    </tr>\n",
              "  </tbody>\n",
              "</table>\n",
              "<p>2245 rows × 2 columns</p>\n",
              "</div>"
            ],
            "text/plain": [
              "         label_prediction         breed_label\n",
              "0     Rhodesian_ridgeback      Great_Pyrenees\n",
              "1     Rhodesian_ridgeback            Airedale\n",
              "2        Japanese_spaniel  miniature_pinscher\n",
              "3     Rhodesian_ridgeback         Maltese_dog\n",
              "4                    chow         Boston_bull\n",
              "...                   ...                 ...\n",
              "2240  African_hunting_dog  Labrador_retriever\n",
              "2241   Australian_terrier               Lhasa\n",
              "2242   miniature_pinscher       Irish_terrier\n",
              "2243   Australian_terrier              beagle\n",
              "2244          EntleBucher            Leonberg\n",
              "\n",
              "[2245 rows x 2 columns]"
            ]
          },
          "metadata": {
            "tags": []
          },
          "execution_count": 63
        }
      ]
    },
    {
      "cell_type": "code",
      "metadata": {
        "colab": {
          "base_uri": "https://localhost:8080/"
        },
        "id": "kS23_lI9cuRu",
        "outputId": "980fc66b-ad92-4ce6-b8f9-b8b090bd92f6"
      },
      "source": [
        "len(predicted_vs_true_df[predicted_vs_true_df['label_prediction'] == predicted_vs_true_df['breed_label']])/len(predicted_vs_true_df)"
      ],
      "execution_count": 62,
      "outputs": [
        {
          "output_type": "execute_result",
          "data": {
            "text/plain": [
              "0.01915367483296214"
            ]
          },
          "metadata": {
            "tags": []
          },
          "execution_count": 62
        }
      ]
    },
    {
      "cell_type": "code",
      "metadata": {
        "id": "bhHjRsIwXoIy"
      },
      "source": [
        ""
      ],
      "execution_count": null,
      "outputs": []
    },
    {
      "cell_type": "markdown",
      "metadata": {
        "id": "x1meBlNIehKE"
      },
      "source": [
        "## Appendix"
      ]
    },
    {
      "cell_type": "code",
      "metadata": {
        "id": "SNRa0tk_bnWI"
      },
      "source": [
        "def img_to_np_array(path):\n",
        "    image = Image.open(path)\n",
        "    image = image.resize((400,400))\n",
        "    image = image.convert('L')\n",
        "    image = np.array(image)\n",
        "    return image"
      ],
      "execution_count": null,
      "outputs": []
    },
    {
      "cell_type": "code",
      "metadata": {
        "colab": {
          "base_uri": "https://localhost:8080/"
        },
        "id": "tAVgRw-rx1WI",
        "outputId": "e751ab3e-acfe-446c-f14f-2cd727f760f2"
      },
      "source": [
        "model.predict(test_images)"
      ],
      "execution_count": null,
      "outputs": [
        {
          "output_type": "execute_result",
          "data": {
            "text/plain": [
              "array([[0.01797077, 0.01418354, 0.01502052, ..., 0.02119177, 0.02180805,\n",
              "        0.02557552],\n",
              "       [0.02448043, 0.01478339, 0.02568153, ..., 0.02259537, 0.01354705,\n",
              "        0.01694354],\n",
              "       [0.02590899, 0.01199391, 0.02530075, ..., 0.01807792, 0.01071404,\n",
              "        0.01656918],\n",
              "       ...,\n",
              "       [0.00661617, 0.01512213, 0.0074093 , ..., 0.00968231, 0.0493345 ,\n",
              "        0.02114191],\n",
              "       [0.01689292, 0.01835003, 0.01733535, ..., 0.01573321, 0.02141015,\n",
              "        0.01584978],\n",
              "       [0.00298639, 0.01981979, 0.00352563, ..., 0.00479469, 0.07043188,\n",
              "        0.01475761]], dtype=float32)"
            ]
          },
          "metadata": {
            "tags": []
          },
          "execution_count": 12
        }
      ]
    },
    {
      "cell_type": "code",
      "metadata": {
        "id": "NeTSP0osy53G"
      },
      "source": [
        "samoyed = img_to_np_array('/content/drive/MyDrive/Dog Breed Classification/dumpling2.jpg').reshape(1,400,400,1)"
      ],
      "execution_count": null,
      "outputs": []
    },
    {
      "cell_type": "code",
      "metadata": {
        "id": "63JQ-0jly53G"
      },
      "source": [
        "prediction = model.predict(samoyed)"
      ],
      "execution_count": null,
      "outputs": []
    },
    {
      "cell_type": "code",
      "metadata": {
        "id": "85df9ilry53G",
        "colab": {
          "base_uri": "https://localhost:8080/"
        },
        "outputId": "fab805f0-e60b-4120-e283-0b7752df9b69"
      },
      "source": [
        "%pprint"
      ],
      "execution_count": null,
      "outputs": [
        {
          "output_type": "stream",
          "text": [
            "Pretty printing has been turned ON\n"
          ],
          "name": "stdout"
        }
      ]
    },
    {
      "cell_type": "code",
      "metadata": {
        "id": "sc-bdUifa1ri"
      },
      "source": [
        "train_label_names_df = pd.read_csv('/content/drive/MyDrive/Dog Breed Classification/train_label_names.csv')"
      ],
      "execution_count": null,
      "outputs": []
    },
    {
      "cell_type": "code",
      "metadata": {
        "id": "dsODxEaly53H"
      },
      "source": [
        "label_list = list(train_label_names_df.columns)\n",
        "prediction_list = list(prediction[0])"
      ],
      "execution_count": null,
      "outputs": []
    },
    {
      "cell_type": "code",
      "metadata": {
        "id": "YRDjUlnMy53H",
        "colab": {
          "base_uri": "https://localhost:8080/"
        },
        "outputId": "4c5f00cb-ca38-4798-cd65-a9c2bad8b04a"
      },
      "source": [
        "predict_dict = {}\n",
        "\n",
        "for a, b in zip(label_list, prediction_list):\n",
        "    predict_dict[a] = b\n",
        "\n",
        "predict_dict"
      ],
      "execution_count": null,
      "outputs": [
        {
          "output_type": "execute_result",
          "data": {
            "text/plain": [
              "{'Afghan_hound': 0.014177282,\n",
              " 'African_hunting_dog': 0.0008787219,\n",
              " 'Airedale': 0.01180455,\n",
              " 'American_Staffordshire_terrier': 0.00052767806,\n",
              " 'Australian_terrier': 0.0025603073,\n",
              " 'Bedlington_terrier': 0.024949053,\n",
              " 'Bernese_mountain_dog': 0.06165251,\n",
              " 'Blenheim_spaniel': 0.0011574505,\n",
              " 'Border_terrier': 0.05271621,\n",
              " 'Boston_bull': 0.00039849503,\n",
              " 'Chesapeake_Bay_retriever': 0.0017277155,\n",
              " 'Dandie_Dinmont': 0.007441003,\n",
              " 'English_setter': 0.44159827,\n",
              " 'EntleBucher': 0.002579662,\n",
              " 'Great_Pyrenees': 0.014412193,\n",
              " 'Greater_Swiss_Mountain_dog': 0.0031948173,\n",
              " 'Ibizan_hound': 0.00079081155,\n",
              " 'Irish_terrier': 0.0006107013,\n",
              " 'Irish_wolfhound': 0.006661382,\n",
              " 'Italian_greyhound': 0.03957929,\n",
              " 'Japanese_spaniel': 0.0049199928,\n",
              " 'Kerry_blue_terrier': 0.0056494046,\n",
              " 'Labrador_retriever': 0.0012405919,\n",
              " 'Lakeland_terrier': 0.01595826,\n",
              " 'Leonberg': 0.0020857216,\n",
              " 'Lhasa': 0.003992008,\n",
              " 'Maltese_dog': 0.0007849614,\n",
              " 'Newfoundland': 0.00082899584,\n",
              " 'Norfolk_terrier': 0.0048975707,\n",
              " 'Norwegian_elkhound': 0.00089641125,\n",
              " 'Norwich_terrier': 0.005133288,\n",
              " 'Old_English_sheepdog': 0.003982798,\n",
              " 'Pembroke': 0.0007763517,\n",
              " 'Pomeranian': 0.0026608184,\n",
              " 'Rhodesian_ridgeback': 0.041029956,\n",
              " 'Saint_Bernard': 0.0026745452,\n",
              " 'Saluki': 0.0022146944,\n",
              " 'Samoyed': 0.00082648004,\n",
              " 'Scottish_deerhound': 0.03847125,\n",
              " 'Sealyham_terrier': 0.0018213652,\n",
              " 'Shih': 0.010166727,\n",
              " 'Siberian_husky': 0.0024357957,\n",
              " 'Tibetan_terrier': 0.0024192927,\n",
              " 'Unnamed: 0': 0.00047180508,\n",
              " 'West_Highland_white_terrier': 0.0017739009,\n",
              " 'Yorkshire_terrier': 0.0022325595,\n",
              " 'basenji': 0.02176301,\n",
              " 'basset': 0.024114082,\n",
              " 'beagle': 0.0040692063,\n",
              " 'bloodhound': 0.00792255,\n",
              " 'bluetick': 0.00064672506,\n",
              " 'cairn': 7.813222e-05,\n",
              " 'chow': 0.012782,\n",
              " 'malamute': 0.018926505,\n",
              " 'miniature_pinscher': 0.0108271185,\n",
              " 'papillon': 0.020561477,\n",
              " 'pug': 0.0005288282,\n",
              " 'silky_terrier': 0.02478432,\n",
              " 'toy_terrier': 0.0032323366}"
            ]
          },
          "metadata": {
            "tags": []
          },
          "execution_count": 33
        }
      ]
    },
    {
      "cell_type": "code",
      "metadata": {
        "id": "NYRk-vaYy53I"
      },
      "source": [
        ""
      ],
      "execution_count": null,
      "outputs": []
    }
  ]
}