{
 "cells": [
  {
   "cell_type": "code",
   "execution_count": 1,
   "source": [
    "import warnings\n",
    "warnings.simplefilter(action='ignore', category=FutureWarning)\n",
    "\n",
    "import pandas as pd\n",
    "import numpy as np\n",
    "\n",
    "from glob import glob\n",
    "import math\n",
    "\n",
    "# Import matplotlib\n",
    "import matplotlib.pyplot as plt\n",
    "from matplotlib.image import imread\n",
    "import plotly.express as px\n",
    "\n",
    "import keras\n",
    "\n",
    "from keras.applications.vgg16 import VGG16\n",
    "from keras.preprocessing.image import load_img\n",
    "from keras.preprocessing.image import img_to_array\n",
    "from keras.applications.vgg16 import preprocess_input\n",
    "from keras.applications.vgg16 import decode_predictions\n",
    "\n",
    "import os # used for navigating to image path\n",
    "import imageio # used for writing images\n",
    "\n",
    "import datetime\n",
    "\n",
    "from PIL import Image\n",
    "from PIL import ImageFile\n",
    "\n",
    "##not sure why I need this but I do\n",
    "ImageFile.LOAD_TRUNCATED_IMAGES = True\n",
    "\n",
    "pd.set_option('max_colwidth', 400)"
   ],
   "outputs": [
    {
     "output_type": "stream",
     "name": "stderr",
     "text": [
      "\n",
      "Bad key \"text.kerning_factor\" on line 4 in\n",
      "/opt/anaconda3/lib/python3.7/site-packages/matplotlib/mpl-data/stylelib/_classic_test_patch.mplstyle.\n",
      "You probably need to get an updated matplotlibrc file from\n",
      "http://github.com/matplotlib/matplotlib/blob/master/matplotlibrc.template\n",
      "or from the matplotlib source distribution\n"
     ]
    }
   ],
   "metadata": {}
  },
  {
   "cell_type": "code",
   "execution_count": 3,
   "source": [
    "# load the model\n",
    "vgg16_model = VGG16(input_shape = (400, 400, 1))"
   ],
   "outputs": [
    {
     "output_type": "error",
     "ename": "ValueError",
     "evalue": "When setting `include_top=True` and loading `imagenet` weights, `input_shape` should be (224, 224, 3).",
     "traceback": [
      "\u001b[0;31m---------------------------------------------------------------------------\u001b[0m",
      "\u001b[0;31mValueError\u001b[0m                                Traceback (most recent call last)",
      "\u001b[0;32m<ipython-input-3-4ae132b84e9f>\u001b[0m in \u001b[0;36m<module>\u001b[0;34m\u001b[0m\n\u001b[1;32m      1\u001b[0m \u001b[0;31m# load the model\u001b[0m\u001b[0;34m\u001b[0m\u001b[0;34m\u001b[0m\u001b[0;34m\u001b[0m\u001b[0m\n\u001b[0;32m----> 2\u001b[0;31m \u001b[0mvgg16_model\u001b[0m \u001b[0;34m=\u001b[0m \u001b[0mVGG16\u001b[0m\u001b[0;34m(\u001b[0m\u001b[0minput_shape\u001b[0m \u001b[0;34m=\u001b[0m \u001b[0;34m(\u001b[0m\u001b[0;36m400\u001b[0m\u001b[0;34m,\u001b[0m \u001b[0;36m400\u001b[0m\u001b[0;34m,\u001b[0m \u001b[0;36m1\u001b[0m\u001b[0;34m)\u001b[0m\u001b[0;34m)\u001b[0m\u001b[0;34m\u001b[0m\u001b[0;34m\u001b[0m\u001b[0m\n\u001b[0m",
      "\u001b[0;32m/opt/anaconda3/lib/python3.7/site-packages/tensorflow/python/keras/applications/vgg16.py\u001b[0m in \u001b[0;36mVGG16\u001b[0;34m(include_top, weights, input_tensor, input_shape, pooling, classes, classifier_activation)\u001b[0m\n\u001b[1;32m    131\u001b[0m       \u001b[0mdata_format\u001b[0m\u001b[0;34m=\u001b[0m\u001b[0mbackend\u001b[0m\u001b[0;34m.\u001b[0m\u001b[0mimage_data_format\u001b[0m\u001b[0;34m(\u001b[0m\u001b[0;34m)\u001b[0m\u001b[0;34m,\u001b[0m\u001b[0;34m\u001b[0m\u001b[0;34m\u001b[0m\u001b[0m\n\u001b[1;32m    132\u001b[0m       \u001b[0mrequire_flatten\u001b[0m\u001b[0;34m=\u001b[0m\u001b[0minclude_top\u001b[0m\u001b[0;34m,\u001b[0m\u001b[0;34m\u001b[0m\u001b[0;34m\u001b[0m\u001b[0m\n\u001b[0;32m--> 133\u001b[0;31m       weights=weights)\n\u001b[0m\u001b[1;32m    134\u001b[0m \u001b[0;34m\u001b[0m\u001b[0m\n\u001b[1;32m    135\u001b[0m   \u001b[0;32mif\u001b[0m \u001b[0minput_tensor\u001b[0m \u001b[0;32mis\u001b[0m \u001b[0;32mNone\u001b[0m\u001b[0;34m:\u001b[0m\u001b[0;34m\u001b[0m\u001b[0;34m\u001b[0m\u001b[0m\n",
      "\u001b[0;32m/opt/anaconda3/lib/python3.7/site-packages/tensorflow/python/keras/applications/imagenet_utils.py\u001b[0m in \u001b[0;36mobtain_input_shape\u001b[0;34m(input_shape, default_size, min_size, data_format, require_flatten, weights)\u001b[0m\n\u001b[1;32m    343\u001b[0m         raise ValueError('When setting `include_top=True` '\n\u001b[1;32m    344\u001b[0m                          \u001b[0;34m'and loading `imagenet` weights, '\u001b[0m\u001b[0;34m\u001b[0m\u001b[0;34m\u001b[0m\u001b[0m\n\u001b[0;32m--> 345\u001b[0;31m                          '`input_shape` should be ' + str(default_shape) + '.')\n\u001b[0m\u001b[1;32m    346\u001b[0m     \u001b[0;32mreturn\u001b[0m \u001b[0mdefault_shape\u001b[0m\u001b[0;34m\u001b[0m\u001b[0;34m\u001b[0m\u001b[0m\n\u001b[1;32m    347\u001b[0m   \u001b[0;32mif\u001b[0m \u001b[0minput_shape\u001b[0m\u001b[0;34m:\u001b[0m\u001b[0;34m\u001b[0m\u001b[0;34m\u001b[0m\u001b[0m\n",
      "\u001b[0;31mValueError\u001b[0m: When setting `include_top=True` and loading `imagenet` weights, `input_shape` should be (224, 224, 3)."
     ]
    }
   ],
   "metadata": {}
  },
  {
   "cell_type": "code",
   "execution_count": 2,
   "source": [
    "def vgg16_predict(img_path):\n",
    "    # load an image from file\n",
    "    image = load_img(img_path, target_size=(224, 224))\n",
    "\n",
    "    # convert the image pixels to a numpy array\n",
    "    image = img_to_array(image)\n",
    "    \n",
    "    # reshape data for the model\n",
    "    image = image.reshape((1, image.shape[0], image.shape[1], image.shape[2]))\n",
    "\n",
    "    # prepare the image for the VGG model\n",
    "    image = preprocess_input(image)\n",
    "\n",
    "    # predict the probability across all output classes\n",
    "    yhat = vgg16_model.predict(image)\n",
    "\n",
    "    # convert the probabilities to class labels and return the top label\n",
    "    label = decode_predictions(yhat)[0][0][1]\n",
    "    \n",
    "    return label"
   ],
   "outputs": [],
   "metadata": {}
  },
  {
   "cell_type": "code",
   "execution_count": 17,
   "source": [
    "file_paths = []\n",
    "image_ids = []\n",
    "breed_labels = []\n",
    "\n",
    "for directory in os.listdir('/Users/ilya/Desktop/Computer-Science/U-Capstone/Images'):\n",
    "    if directory != '.DS_Store':\n",
    "        for file in os.listdir('/Users/ilya/Desktop/Computer-Science/U-Capstone/Images/'+str(directory)):\n",
    "            file_paths.append('/Users/ilya/Desktop/Computer-Science/U-Capstone/Images/'\n",
    "                              +str(directory)+'/'+str(file))\n",
    "            breed_labels.append(str(directory).split('-')[1])\n",
    "            image_ids.append(file)\n",
    "\n",
    "df = pd.DataFrame()\n",
    "\n",
    "df['file_path'] = file_paths\n",
    "df['image_id'] = image_ids\n",
    "df['breed_label'] = breed_labels\n",
    "\n",
    "df"
   ],
   "outputs": [
    {
     "output_type": "execute_result",
     "data": {
      "text/plain": [
       "                                                                                                         file_path  \\\n",
       "0                  /Users/ilya/Desktop/Computer-Science/U-Capstone/Images/n02097658-silky_terrier/n02097658_26.jpg   \n",
       "1                /Users/ilya/Desktop/Computer-Science/U-Capstone/Images/n02097658-silky_terrier/n02097658_4869.jpg   \n",
       "2                 /Users/ilya/Desktop/Computer-Science/U-Capstone/Images/n02097658-silky_terrier/n02097658_595.jpg   \n",
       "3                /Users/ilya/Desktop/Computer-Science/U-Capstone/Images/n02097658-silky_terrier/n02097658_9222.jpg   \n",
       "4                 /Users/ilya/Desktop/Computer-Science/U-Capstone/Images/n02097658-silky_terrier/n02097658_422.jpg   \n",
       "...                                                                                                            ...   \n",
       "20575   /Users/ilya/Desktop/Computer-Science/U-Capstone/Images/n02089078-black-and-tan_coonhound/n02089078_237.jpg   \n",
       "20576   /Users/ilya/Desktop/Computer-Science/U-Capstone/Images/n02089078-black-and-tan_coonhound/n02089078_222.jpg   \n",
       "20577  /Users/ilya/Desktop/Computer-Science/U-Capstone/Images/n02089078-black-and-tan_coonhound/n02089078_1021.jpg   \n",
       "20578   /Users/ilya/Desktop/Computer-Science/U-Capstone/Images/n02089078-black-and-tan_coonhound/n02089078_183.jpg   \n",
       "20579  /Users/ilya/Desktop/Computer-Science/U-Capstone/Images/n02089078-black-and-tan_coonhound/n02089078_2110.jpg   \n",
       "\n",
       "                 image_id    breed_label  \n",
       "0        n02097658_26.jpg  silky_terrier  \n",
       "1      n02097658_4869.jpg  silky_terrier  \n",
       "2       n02097658_595.jpg  silky_terrier  \n",
       "3      n02097658_9222.jpg  silky_terrier  \n",
       "4       n02097658_422.jpg  silky_terrier  \n",
       "...                   ...            ...  \n",
       "20575   n02089078_237.jpg          black  \n",
       "20576   n02089078_222.jpg          black  \n",
       "20577  n02089078_1021.jpg          black  \n",
       "20578   n02089078_183.jpg          black  \n",
       "20579  n02089078_2110.jpg          black  \n",
       "\n",
       "[20580 rows x 3 columns]"
      ],
      "text/html": [
       "<div>\n",
       "<style scoped>\n",
       "    .dataframe tbody tr th:only-of-type {\n",
       "        vertical-align: middle;\n",
       "    }\n",
       "\n",
       "    .dataframe tbody tr th {\n",
       "        vertical-align: top;\n",
       "    }\n",
       "\n",
       "    .dataframe thead th {\n",
       "        text-align: right;\n",
       "    }\n",
       "</style>\n",
       "<table border=\"1\" class=\"dataframe\">\n",
       "  <thead>\n",
       "    <tr style=\"text-align: right;\">\n",
       "      <th></th>\n",
       "      <th>file_path</th>\n",
       "      <th>image_id</th>\n",
       "      <th>breed_label</th>\n",
       "    </tr>\n",
       "  </thead>\n",
       "  <tbody>\n",
       "    <tr>\n",
       "      <th>0</th>\n",
       "      <td>/Users/ilya/Desktop/Computer-Science/U-Capstone/Images/n02097658-silky_terrier/n02097658_26.jpg</td>\n",
       "      <td>n02097658_26.jpg</td>\n",
       "      <td>silky_terrier</td>\n",
       "    </tr>\n",
       "    <tr>\n",
       "      <th>1</th>\n",
       "      <td>/Users/ilya/Desktop/Computer-Science/U-Capstone/Images/n02097658-silky_terrier/n02097658_4869.jpg</td>\n",
       "      <td>n02097658_4869.jpg</td>\n",
       "      <td>silky_terrier</td>\n",
       "    </tr>\n",
       "    <tr>\n",
       "      <th>2</th>\n",
       "      <td>/Users/ilya/Desktop/Computer-Science/U-Capstone/Images/n02097658-silky_terrier/n02097658_595.jpg</td>\n",
       "      <td>n02097658_595.jpg</td>\n",
       "      <td>silky_terrier</td>\n",
       "    </tr>\n",
       "    <tr>\n",
       "      <th>3</th>\n",
       "      <td>/Users/ilya/Desktop/Computer-Science/U-Capstone/Images/n02097658-silky_terrier/n02097658_9222.jpg</td>\n",
       "      <td>n02097658_9222.jpg</td>\n",
       "      <td>silky_terrier</td>\n",
       "    </tr>\n",
       "    <tr>\n",
       "      <th>4</th>\n",
       "      <td>/Users/ilya/Desktop/Computer-Science/U-Capstone/Images/n02097658-silky_terrier/n02097658_422.jpg</td>\n",
       "      <td>n02097658_422.jpg</td>\n",
       "      <td>silky_terrier</td>\n",
       "    </tr>\n",
       "    <tr>\n",
       "      <th>...</th>\n",
       "      <td>...</td>\n",
       "      <td>...</td>\n",
       "      <td>...</td>\n",
       "    </tr>\n",
       "    <tr>\n",
       "      <th>20575</th>\n",
       "      <td>/Users/ilya/Desktop/Computer-Science/U-Capstone/Images/n02089078-black-and-tan_coonhound/n02089078_237.jpg</td>\n",
       "      <td>n02089078_237.jpg</td>\n",
       "      <td>black</td>\n",
       "    </tr>\n",
       "    <tr>\n",
       "      <th>20576</th>\n",
       "      <td>/Users/ilya/Desktop/Computer-Science/U-Capstone/Images/n02089078-black-and-tan_coonhound/n02089078_222.jpg</td>\n",
       "      <td>n02089078_222.jpg</td>\n",
       "      <td>black</td>\n",
       "    </tr>\n",
       "    <tr>\n",
       "      <th>20577</th>\n",
       "      <td>/Users/ilya/Desktop/Computer-Science/U-Capstone/Images/n02089078-black-and-tan_coonhound/n02089078_1021.jpg</td>\n",
       "      <td>n02089078_1021.jpg</td>\n",
       "      <td>black</td>\n",
       "    </tr>\n",
       "    <tr>\n",
       "      <th>20578</th>\n",
       "      <td>/Users/ilya/Desktop/Computer-Science/U-Capstone/Images/n02089078-black-and-tan_coonhound/n02089078_183.jpg</td>\n",
       "      <td>n02089078_183.jpg</td>\n",
       "      <td>black</td>\n",
       "    </tr>\n",
       "    <tr>\n",
       "      <th>20579</th>\n",
       "      <td>/Users/ilya/Desktop/Computer-Science/U-Capstone/Images/n02089078-black-and-tan_coonhound/n02089078_2110.jpg</td>\n",
       "      <td>n02089078_2110.jpg</td>\n",
       "      <td>black</td>\n",
       "    </tr>\n",
       "  </tbody>\n",
       "</table>\n",
       "<p>20580 rows × 3 columns</p>\n",
       "</div>"
      ]
     },
     "metadata": {},
     "execution_count": 17
    }
   ],
   "metadata": {}
  },
  {
   "cell_type": "code",
   "execution_count": 18,
   "source": [
    "#we count the number of dog images per breed discovering the fact the the dataset in slightly imbalanced\n",
    "\n",
    "breed_count_df = df.groupby('breed_label').count().reset_index()\\\n",
    "                .rename(columns = {'file_path':'dog_count'})[['breed_label','dog_count']]\\\n",
    "                .sort_values(by = 'dog_count', ascending = False)\n",
    "\n",
    "df2 = df.merge(breed_count_df, left_on= 'breed_label', right_on = 'breed_label')\n",
    "df3 = df2.sample(frac = 1)\n",
    "df4 = df3[df3.dog_count > 160]\n",
    "df5 = df4[['file_path','image_id','breed_label']]\n",
    "df5"
   ],
   "outputs": [
    {
     "output_type": "execute_result",
     "data": {
      "text/plain": [
       "                                                                                                      file_path  \\\n",
       "9940        /Users/ilya/Desktop/Computer-Science/U-Capstone/Images/n02097474-Tibetan_terrier/n02097474_1990.jpg   \n",
       "15281                 /Users/ilya/Desktop/Computer-Science/U-Capstone/Images/n02098413-Lhasa/n02098413_5806.jpg   \n",
       "3246              /Users/ilya/Desktop/Computer-Science/U-Capstone/Images/n02110063-malamute/n02110063_19390.jpg   \n",
       "5716          /Users/ilya/Desktop/Computer-Science/U-Capstone/Images/n02093754-Border_terrier/n02093754_687.jpg   \n",
       "19559             /Users/ilya/Desktop/Computer-Science/U-Capstone/Images/n02112018-Pomeranian/n02112018_888.jpg   \n",
       "...                                                                                                         ...   \n",
       "16231            /Users/ilya/Desktop/Computer-Science/U-Capstone/Images/n02088466-bloodhound/n02088466_9533.jpg   \n",
       "9524   /Users/ilya/Desktop/Computer-Science/U-Capstone/Images/n02107683-Bernese_mountain_dog/n02107683_2059.jpg   \n",
       "7114       /Users/ilya/Desktop/Computer-Science/U-Capstone/Images/n02095570-Lakeland_terrier/n02095570_5068.jpg   \n",
       "12485              /Users/ilya/Desktop/Computer-Science/U-Capstone/Images/n02091134-whippet/n02091134_18403.jpg   \n",
       "11272                  /Users/ilya/Desktop/Computer-Science/U-Capstone/Images/n02112137-chow/n02112137_1704.jpg   \n",
       "\n",
       "                  image_id           breed_label  \n",
       "9940    n02097474_1990.jpg       Tibetan_terrier  \n",
       "15281   n02098413_5806.jpg                 Lhasa  \n",
       "3246   n02110063_19390.jpg              malamute  \n",
       "5716     n02093754_687.jpg        Border_terrier  \n",
       "19559    n02112018_888.jpg            Pomeranian  \n",
       "...                    ...                   ...  \n",
       "16231   n02088466_9533.jpg            bloodhound  \n",
       "9524    n02107683_2059.jpg  Bernese_mountain_dog  \n",
       "7114    n02095570_5068.jpg      Lakeland_terrier  \n",
       "12485  n02091134_18403.jpg               whippet  \n",
       "11272   n02112137_1704.jpg                  chow  \n",
       "\n",
       "[11226 rows x 3 columns]"
      ],
      "text/html": [
       "<div>\n",
       "<style scoped>\n",
       "    .dataframe tbody tr th:only-of-type {\n",
       "        vertical-align: middle;\n",
       "    }\n",
       "\n",
       "    .dataframe tbody tr th {\n",
       "        vertical-align: top;\n",
       "    }\n",
       "\n",
       "    .dataframe thead th {\n",
       "        text-align: right;\n",
       "    }\n",
       "</style>\n",
       "<table border=\"1\" class=\"dataframe\">\n",
       "  <thead>\n",
       "    <tr style=\"text-align: right;\">\n",
       "      <th></th>\n",
       "      <th>file_path</th>\n",
       "      <th>image_id</th>\n",
       "      <th>breed_label</th>\n",
       "    </tr>\n",
       "  </thead>\n",
       "  <tbody>\n",
       "    <tr>\n",
       "      <th>9940</th>\n",
       "      <td>/Users/ilya/Desktop/Computer-Science/U-Capstone/Images/n02097474-Tibetan_terrier/n02097474_1990.jpg</td>\n",
       "      <td>n02097474_1990.jpg</td>\n",
       "      <td>Tibetan_terrier</td>\n",
       "    </tr>\n",
       "    <tr>\n",
       "      <th>15281</th>\n",
       "      <td>/Users/ilya/Desktop/Computer-Science/U-Capstone/Images/n02098413-Lhasa/n02098413_5806.jpg</td>\n",
       "      <td>n02098413_5806.jpg</td>\n",
       "      <td>Lhasa</td>\n",
       "    </tr>\n",
       "    <tr>\n",
       "      <th>3246</th>\n",
       "      <td>/Users/ilya/Desktop/Computer-Science/U-Capstone/Images/n02110063-malamute/n02110063_19390.jpg</td>\n",
       "      <td>n02110063_19390.jpg</td>\n",
       "      <td>malamute</td>\n",
       "    </tr>\n",
       "    <tr>\n",
       "      <th>5716</th>\n",
       "      <td>/Users/ilya/Desktop/Computer-Science/U-Capstone/Images/n02093754-Border_terrier/n02093754_687.jpg</td>\n",
       "      <td>n02093754_687.jpg</td>\n",
       "      <td>Border_terrier</td>\n",
       "    </tr>\n",
       "    <tr>\n",
       "      <th>19559</th>\n",
       "      <td>/Users/ilya/Desktop/Computer-Science/U-Capstone/Images/n02112018-Pomeranian/n02112018_888.jpg</td>\n",
       "      <td>n02112018_888.jpg</td>\n",
       "      <td>Pomeranian</td>\n",
       "    </tr>\n",
       "    <tr>\n",
       "      <th>...</th>\n",
       "      <td>...</td>\n",
       "      <td>...</td>\n",
       "      <td>...</td>\n",
       "    </tr>\n",
       "    <tr>\n",
       "      <th>16231</th>\n",
       "      <td>/Users/ilya/Desktop/Computer-Science/U-Capstone/Images/n02088466-bloodhound/n02088466_9533.jpg</td>\n",
       "      <td>n02088466_9533.jpg</td>\n",
       "      <td>bloodhound</td>\n",
       "    </tr>\n",
       "    <tr>\n",
       "      <th>9524</th>\n",
       "      <td>/Users/ilya/Desktop/Computer-Science/U-Capstone/Images/n02107683-Bernese_mountain_dog/n02107683_2059.jpg</td>\n",
       "      <td>n02107683_2059.jpg</td>\n",
       "      <td>Bernese_mountain_dog</td>\n",
       "    </tr>\n",
       "    <tr>\n",
       "      <th>7114</th>\n",
       "      <td>/Users/ilya/Desktop/Computer-Science/U-Capstone/Images/n02095570-Lakeland_terrier/n02095570_5068.jpg</td>\n",
       "      <td>n02095570_5068.jpg</td>\n",
       "      <td>Lakeland_terrier</td>\n",
       "    </tr>\n",
       "    <tr>\n",
       "      <th>12485</th>\n",
       "      <td>/Users/ilya/Desktop/Computer-Science/U-Capstone/Images/n02091134-whippet/n02091134_18403.jpg</td>\n",
       "      <td>n02091134_18403.jpg</td>\n",
       "      <td>whippet</td>\n",
       "    </tr>\n",
       "    <tr>\n",
       "      <th>11272</th>\n",
       "      <td>/Users/ilya/Desktop/Computer-Science/U-Capstone/Images/n02112137-chow/n02112137_1704.jpg</td>\n",
       "      <td>n02112137_1704.jpg</td>\n",
       "      <td>chow</td>\n",
       "    </tr>\n",
       "  </tbody>\n",
       "</table>\n",
       "<p>11226 rows × 3 columns</p>\n",
       "</div>"
      ]
     },
     "metadata": {},
     "execution_count": 18
    }
   ],
   "metadata": {}
  },
  {
   "cell_type": "code",
   "execution_count": 19,
   "source": [
    "train_df = df5.iloc[0:round(len(df5)*0.8)]\n",
    "test_df = df5.iloc[round(len(df5)*0.8):]"
   ],
   "outputs": [],
   "metadata": {}
  },
  {
   "cell_type": "code",
   "execution_count": 20,
   "source": [
    "vgg16_pred = vgg16_predict('/Users/ilya/Desktop/Computer-Science/U-Capstone/Images/n02086910-papillon/n02086910_695.jpg')\n",
    "vgg16_pred"
   ],
   "outputs": [
    {
     "output_type": "execute_result",
     "data": {
      "text/plain": [
       "'papillon'"
      ]
     },
     "metadata": {},
     "execution_count": 20
    }
   ],
   "metadata": {}
  },
  {
   "cell_type": "code",
   "execution_count": 21,
   "source": [
    "pred_label_list = []\n",
    "\n",
    "for file_path in test_df['file_path']:\n",
    "    pred_label = vgg16_predict(file_path)\n",
    "    pred_label_list.append(pred_label)"
   ],
   "outputs": [],
   "metadata": {}
  },
  {
   "cell_type": "code",
   "execution_count": 23,
   "source": [
    "test_df.head(100)['pred_label'] = pred_label_list"
   ],
   "outputs": [
    {
     "output_type": "stream",
     "name": "stderr",
     "text": [
      "/opt/anaconda3/lib/python3.7/site-packages/ipykernel_launcher.py:1: SettingWithCopyWarning:\n",
      "\n",
      "\n",
      "A value is trying to be set on a copy of a slice from a DataFrame.\n",
      "Try using .loc[row_indexer,col_indexer] = value instead\n",
      "\n",
      "See the caveats in the documentation: https://pandas.pydata.org/pandas-docs/stable/user_guide/indexing.html#returning-a-view-versus-a-copy\n",
      "\n"
     ]
    }
   ],
   "metadata": {}
  },
  {
   "cell_type": "code",
   "execution_count": 31,
   "source": [
    "test_df.to_csv('/Users/ilya/Desktop/U-Capstone/data/test_df.csv')"
   ],
   "outputs": [],
   "metadata": {}
  },
  {
   "cell_type": "code",
   "execution_count": 39,
   "source": [
    "def img_to_np_array(path):\n",
    "    image = Image.open(path)\n",
    "    image = image.resize((400,400))\n",
    "    image = image.convert('L')\n",
    "    image = np.array(image)\n",
    "    return image"
   ],
   "outputs": [],
   "metadata": {}
  },
  {
   "cell_type": "code",
   "execution_count": 40,
   "source": [
    "train_data = []\n",
    "\n",
    "for file_path, label in zip(train_df['file_path'], train_df['breed_label']):\n",
    "    img_np_array = img_to_np_array(file_path)\n",
    "    train_data.append([img_np_array, label])\n",
    "\n",
    "train_images = np.array([i[0] for i in train_data])\n",
    "train_labels = np.array([i[1] for i in train_data])\n",
    "\n",
    "train_images = train_images.reshape(-1, 400, 400, 1)\n",
    "train_labels = pd.get_dummies(train_labels).to_numpy()"
   ],
   "outputs": [],
   "metadata": {}
  },
  {
   "cell_type": "code",
   "execution_count": 42,
   "source": [
    "test_data = []\n",
    "\n",
    "for file_path, label in zip(test_df['file_path'], test_df['breed_label']):\n",
    "    img_np_array = img_to_np_array(file_path)\n",
    "    test_data.append([img_np_array, label])\n",
    "\n",
    "test_images = np.array([i[0] for i in test_data])\n",
    "test_labels = np.array([i[1] for i in test_data])\n",
    "\n",
    "test_labels_df = pd.get_dummies(test_labels)\n",
    "\n",
    "test_images = test_images.reshape(-1, 400, 400, 1)\n",
    "test_labels = pd.get_dummies(test_labels).to_numpy()"
   ],
   "outputs": [],
   "metadata": {}
  },
  {
   "cell_type": "code",
   "execution_count": 36,
   "source": [
    "test_labels_df.to_csv(os.path.join(directory,'test_label_column_names.csv'))\n",
    "print(\"Test label names saved!\")"
   ],
   "outputs": [
    {
     "output_type": "stream",
     "name": "stdout",
     "text": [
      "Test label names saved!\n"
     ]
    }
   ],
   "metadata": {}
  },
  {
   "cell_type": "code",
   "execution_count": 43,
   "source": [
    "print(train_images.shape)\n",
    "print(train_labels.shape)\n",
    "print(test_images.shape)\n",
    "print(test_labels.shape)"
   ],
   "outputs": [
    {
     "output_type": "stream",
     "name": "stdout",
     "text": [
      "(8981, 400, 400, 1)\n",
      "(8981, 59)\n",
      "(2245, 400, 400, 1)\n",
      "(2245, 59)\n"
     ]
    }
   ],
   "metadata": {}
  },
  {
   "cell_type": "code",
   "execution_count": 30,
   "source": [
    "directory = '/Users/ilya/Desktop/U-Capstone/data'\n",
    "\n",
    "np.save(os.path.join(directory,'train_images.npy'), train_images)\n",
    "print(\"Train images saved!\")\n",
    "\n",
    "np.save(os.path.join(directory,'train_labels.npy'), train_labels)\n",
    "print(\"Train labels saved!\")\n",
    "\n",
    "np.save(os.path.join(directory,'test_images.npy'), test_images)\n",
    "print(\"Test images saved!\")\n",
    "\n",
    "np.save(os.path.join(directory,'test_labels.npy'), test_labels)\n",
    "print(\"Test labels saved!\")"
   ],
   "outputs": [
    {
     "output_type": "stream",
     "name": "stdout",
     "text": [
      "Train images saved!\n",
      "Train labels saved!\n",
      "Test images saved!\n",
      "Test labels saved!\n"
     ]
    }
   ],
   "metadata": {}
  },
  {
   "cell_type": "markdown",
   "source": [
    "## PART III"
   ],
   "metadata": {}
  },
  {
   "cell_type": "code",
   "execution_count": 37,
   "source": [
    "label_df = pd.read_csv('/Users/ilya/Downloads/label_df.csv').drop(columns = ['Unnamed: 0'])\n",
    "label_df"
   ],
   "outputs": [
    {
     "output_type": "execute_result",
     "data": {
      "text/plain": [
       "                                              file_path             image_id  \\\n",
       "0     /Users/ilya/Desktop/U-Capstone/Images/n0211127...   n02111277_1193.jpg   \n",
       "1     /Users/ilya/Desktop/U-Capstone/Images/n0209072...   n02090721_6279.jpg   \n",
       "2     /Users/ilya/Desktop/U-Capstone/Images/n0209200...   n02092002_6907.jpg   \n",
       "3     /Users/ilya/Desktop/U-Capstone/Images/n0209200...  n02092002_15342.jpg   \n",
       "4     /Users/ilya/Desktop/U-Capstone/Images/n0211112...    n02111129_547.jpg   \n",
       "...                                                 ...                  ...   \n",
       "2240  /Users/ilya/Desktop/U-Capstone/Images/n0209146...   n02091467_3767.jpg   \n",
       "2241  /Users/ilya/Desktop/U-Capstone/Images/n0209643...      n02096437_6.jpg   \n",
       "2242  /Users/ilya/Desktop/U-Capstone/Images/n0209364...   n02093647_1022.jpg   \n",
       "2243  /Users/ilya/Desktop/U-Capstone/Images/n0209617...   n02096177_4520.jpg   \n",
       "2244  /Users/ilya/Desktop/U-Capstone/Images/n0209747...   n02097474_2113.jpg   \n",
       "\n",
       "             breed_label         pred_labels  \n",
       "0           Newfoundland                chow  \n",
       "1        Irish_wolfhound  Scottish_deerhound  \n",
       "2     Scottish_deerhound        Afghan_hound  \n",
       "3     Scottish_deerhound  miniature_pinscher  \n",
       "4               Leonberg              Saluki  \n",
       "...                  ...                 ...  \n",
       "2240  Norwegian_elkhound  Scottish_deerhound  \n",
       "2241      Dandie_Dinmont            Airedale  \n",
       "2242  Bedlington_terrier  Scottish_deerhound  \n",
       "2243               cairn          Pomeranian  \n",
       "2244     Tibetan_terrier  Scottish_deerhound  \n",
       "\n",
       "[2245 rows x 4 columns]"
      ],
      "text/html": [
       "<div>\n",
       "<style scoped>\n",
       "    .dataframe tbody tr th:only-of-type {\n",
       "        vertical-align: middle;\n",
       "    }\n",
       "\n",
       "    .dataframe tbody tr th {\n",
       "        vertical-align: top;\n",
       "    }\n",
       "\n",
       "    .dataframe thead th {\n",
       "        text-align: right;\n",
       "    }\n",
       "</style>\n",
       "<table border=\"1\" class=\"dataframe\">\n",
       "  <thead>\n",
       "    <tr style=\"text-align: right;\">\n",
       "      <th></th>\n",
       "      <th>file_path</th>\n",
       "      <th>image_id</th>\n",
       "      <th>breed_label</th>\n",
       "      <th>pred_labels</th>\n",
       "    </tr>\n",
       "  </thead>\n",
       "  <tbody>\n",
       "    <tr>\n",
       "      <th>0</th>\n",
       "      <td>/Users/ilya/Desktop/U-Capstone/Images/n0211127...</td>\n",
       "      <td>n02111277_1193.jpg</td>\n",
       "      <td>Newfoundland</td>\n",
       "      <td>chow</td>\n",
       "    </tr>\n",
       "    <tr>\n",
       "      <th>1</th>\n",
       "      <td>/Users/ilya/Desktop/U-Capstone/Images/n0209072...</td>\n",
       "      <td>n02090721_6279.jpg</td>\n",
       "      <td>Irish_wolfhound</td>\n",
       "      <td>Scottish_deerhound</td>\n",
       "    </tr>\n",
       "    <tr>\n",
       "      <th>2</th>\n",
       "      <td>/Users/ilya/Desktop/U-Capstone/Images/n0209200...</td>\n",
       "      <td>n02092002_6907.jpg</td>\n",
       "      <td>Scottish_deerhound</td>\n",
       "      <td>Afghan_hound</td>\n",
       "    </tr>\n",
       "    <tr>\n",
       "      <th>3</th>\n",
       "      <td>/Users/ilya/Desktop/U-Capstone/Images/n0209200...</td>\n",
       "      <td>n02092002_15342.jpg</td>\n",
       "      <td>Scottish_deerhound</td>\n",
       "      <td>miniature_pinscher</td>\n",
       "    </tr>\n",
       "    <tr>\n",
       "      <th>4</th>\n",
       "      <td>/Users/ilya/Desktop/U-Capstone/Images/n0211112...</td>\n",
       "      <td>n02111129_547.jpg</td>\n",
       "      <td>Leonberg</td>\n",
       "      <td>Saluki</td>\n",
       "    </tr>\n",
       "    <tr>\n",
       "      <th>...</th>\n",
       "      <td>...</td>\n",
       "      <td>...</td>\n",
       "      <td>...</td>\n",
       "      <td>...</td>\n",
       "    </tr>\n",
       "    <tr>\n",
       "      <th>2240</th>\n",
       "      <td>/Users/ilya/Desktop/U-Capstone/Images/n0209146...</td>\n",
       "      <td>n02091467_3767.jpg</td>\n",
       "      <td>Norwegian_elkhound</td>\n",
       "      <td>Scottish_deerhound</td>\n",
       "    </tr>\n",
       "    <tr>\n",
       "      <th>2241</th>\n",
       "      <td>/Users/ilya/Desktop/U-Capstone/Images/n0209643...</td>\n",
       "      <td>n02096437_6.jpg</td>\n",
       "      <td>Dandie_Dinmont</td>\n",
       "      <td>Airedale</td>\n",
       "    </tr>\n",
       "    <tr>\n",
       "      <th>2242</th>\n",
       "      <td>/Users/ilya/Desktop/U-Capstone/Images/n0209364...</td>\n",
       "      <td>n02093647_1022.jpg</td>\n",
       "      <td>Bedlington_terrier</td>\n",
       "      <td>Scottish_deerhound</td>\n",
       "    </tr>\n",
       "    <tr>\n",
       "      <th>2243</th>\n",
       "      <td>/Users/ilya/Desktop/U-Capstone/Images/n0209617...</td>\n",
       "      <td>n02096177_4520.jpg</td>\n",
       "      <td>cairn</td>\n",
       "      <td>Pomeranian</td>\n",
       "    </tr>\n",
       "    <tr>\n",
       "      <th>2244</th>\n",
       "      <td>/Users/ilya/Desktop/U-Capstone/Images/n0209747...</td>\n",
       "      <td>n02097474_2113.jpg</td>\n",
       "      <td>Tibetan_terrier</td>\n",
       "      <td>Scottish_deerhound</td>\n",
       "    </tr>\n",
       "  </tbody>\n",
       "</table>\n",
       "<p>2245 rows × 4 columns</p>\n",
       "</div>"
      ]
     },
     "metadata": {},
     "execution_count": 37
    }
   ],
   "metadata": {}
  },
  {
   "cell_type": "code",
   "execution_count": 39,
   "source": [
    "top_true_labels = label_df[label_df['breed_label'] == label_df['pred_labels']].head(10)\n",
    "top_true_labels"
   ],
   "outputs": [
    {
     "output_type": "execute_result",
     "data": {
      "text/plain": [
       "                                             file_path             image_id  \\\n",
       "6    /Users/ilya/Desktop/U-Capstone/Images/n0208739...   n02087394_7724.jpg   \n",
       "30   /Users/ilya/Desktop/U-Capstone/Images/n0211188...  n02111889_13772.jpg   \n",
       "64   /Users/ilya/Desktop/U-Capstone/Images/n0209643...   n02096437_1521.jpg   \n",
       "85   /Users/ilya/Desktop/U-Capstone/Images/n0209658...   n02096585_1450.jpg   \n",
       "102  /Users/ilya/Desktop/U-Capstone/Images/n0208593...    n02085936_126.jpg   \n",
       "112  /Users/ilya/Desktop/U-Capstone/Images/n0210731...   n02107312_4979.jpg   \n",
       "141  /Users/ilya/Desktop/U-Capstone/Images/n0209200...  n02092002_14771.jpg   \n",
       "144  /Users/ilya/Desktop/U-Capstone/Images/n0211080...    n02110806_518.jpg   \n",
       "194  /Users/ilya/Desktop/U-Capstone/Images/n0210800...     n02108000_41.jpg   \n",
       "207  /Users/ilya/Desktop/U-Capstone/Images/n0209385...   n02093859_2745.jpg   \n",
       "\n",
       "             breed_label          pred_labels  \n",
       "6    Rhodesian_ridgeback  Rhodesian_ridgeback  \n",
       "30               Samoyed              Samoyed  \n",
       "64        Dandie_Dinmont       Dandie_Dinmont  \n",
       "85           Boston_bull          Boston_bull  \n",
       "102          Maltese_dog          Maltese_dog  \n",
       "112   miniature_pinscher   miniature_pinscher  \n",
       "141   Scottish_deerhound   Scottish_deerhound  \n",
       "144              basenji              basenji  \n",
       "194          EntleBucher          EntleBucher  \n",
       "207   Kerry_blue_terrier   Kerry_blue_terrier  "
      ],
      "text/html": [
       "<div>\n",
       "<style scoped>\n",
       "    .dataframe tbody tr th:only-of-type {\n",
       "        vertical-align: middle;\n",
       "    }\n",
       "\n",
       "    .dataframe tbody tr th {\n",
       "        vertical-align: top;\n",
       "    }\n",
       "\n",
       "    .dataframe thead th {\n",
       "        text-align: right;\n",
       "    }\n",
       "</style>\n",
       "<table border=\"1\" class=\"dataframe\">\n",
       "  <thead>\n",
       "    <tr style=\"text-align: right;\">\n",
       "      <th></th>\n",
       "      <th>file_path</th>\n",
       "      <th>image_id</th>\n",
       "      <th>breed_label</th>\n",
       "      <th>pred_labels</th>\n",
       "    </tr>\n",
       "  </thead>\n",
       "  <tbody>\n",
       "    <tr>\n",
       "      <th>6</th>\n",
       "      <td>/Users/ilya/Desktop/U-Capstone/Images/n0208739...</td>\n",
       "      <td>n02087394_7724.jpg</td>\n",
       "      <td>Rhodesian_ridgeback</td>\n",
       "      <td>Rhodesian_ridgeback</td>\n",
       "    </tr>\n",
       "    <tr>\n",
       "      <th>30</th>\n",
       "      <td>/Users/ilya/Desktop/U-Capstone/Images/n0211188...</td>\n",
       "      <td>n02111889_13772.jpg</td>\n",
       "      <td>Samoyed</td>\n",
       "      <td>Samoyed</td>\n",
       "    </tr>\n",
       "    <tr>\n",
       "      <th>64</th>\n",
       "      <td>/Users/ilya/Desktop/U-Capstone/Images/n0209643...</td>\n",
       "      <td>n02096437_1521.jpg</td>\n",
       "      <td>Dandie_Dinmont</td>\n",
       "      <td>Dandie_Dinmont</td>\n",
       "    </tr>\n",
       "    <tr>\n",
       "      <th>85</th>\n",
       "      <td>/Users/ilya/Desktop/U-Capstone/Images/n0209658...</td>\n",
       "      <td>n02096585_1450.jpg</td>\n",
       "      <td>Boston_bull</td>\n",
       "      <td>Boston_bull</td>\n",
       "    </tr>\n",
       "    <tr>\n",
       "      <th>102</th>\n",
       "      <td>/Users/ilya/Desktop/U-Capstone/Images/n0208593...</td>\n",
       "      <td>n02085936_126.jpg</td>\n",
       "      <td>Maltese_dog</td>\n",
       "      <td>Maltese_dog</td>\n",
       "    </tr>\n",
       "    <tr>\n",
       "      <th>112</th>\n",
       "      <td>/Users/ilya/Desktop/U-Capstone/Images/n0210731...</td>\n",
       "      <td>n02107312_4979.jpg</td>\n",
       "      <td>miniature_pinscher</td>\n",
       "      <td>miniature_pinscher</td>\n",
       "    </tr>\n",
       "    <tr>\n",
       "      <th>141</th>\n",
       "      <td>/Users/ilya/Desktop/U-Capstone/Images/n0209200...</td>\n",
       "      <td>n02092002_14771.jpg</td>\n",
       "      <td>Scottish_deerhound</td>\n",
       "      <td>Scottish_deerhound</td>\n",
       "    </tr>\n",
       "    <tr>\n",
       "      <th>144</th>\n",
       "      <td>/Users/ilya/Desktop/U-Capstone/Images/n0211080...</td>\n",
       "      <td>n02110806_518.jpg</td>\n",
       "      <td>basenji</td>\n",
       "      <td>basenji</td>\n",
       "    </tr>\n",
       "    <tr>\n",
       "      <th>194</th>\n",
       "      <td>/Users/ilya/Desktop/U-Capstone/Images/n0210800...</td>\n",
       "      <td>n02108000_41.jpg</td>\n",
       "      <td>EntleBucher</td>\n",
       "      <td>EntleBucher</td>\n",
       "    </tr>\n",
       "    <tr>\n",
       "      <th>207</th>\n",
       "      <td>/Users/ilya/Desktop/U-Capstone/Images/n0209385...</td>\n",
       "      <td>n02093859_2745.jpg</td>\n",
       "      <td>Kerry_blue_terrier</td>\n",
       "      <td>Kerry_blue_terrier</td>\n",
       "    </tr>\n",
       "  </tbody>\n",
       "</table>\n",
       "</div>"
      ]
     },
     "metadata": {},
     "execution_count": 39
    }
   ],
   "metadata": {}
  },
  {
   "cell_type": "code",
   "execution_count": 40,
   "source": [
    "from plotly.subplots import make_subplots\n",
    "import plotly.graph_objects as go\n",
    "from skimage import io"
   ],
   "outputs": [],
   "metadata": {}
  },
  {
   "cell_type": "code",
   "execution_count": 41,
   "source": [
    "list_of_labels = [\"Pred:\"+str(pred_label)+\", Act:\"+str(breed_label) for breed_label, pred_label in zip(top_true_labels['breed_label'], top_true_labels['pred_labels'])]\n",
    "tuple_of_labels = tuple(list_of_labels)\n",
    "tuple_of_labels"
   ],
   "outputs": [
    {
     "output_type": "execute_result",
     "data": {
      "text/plain": [
       "('Pred:Rhodesian_ridgeback, Act:Rhodesian_ridgeback',\n",
       " 'Pred:Samoyed, Act:Samoyed',\n",
       " 'Pred:Dandie_Dinmont, Act:Dandie_Dinmont',\n",
       " 'Pred:Boston_bull, Act:Boston_bull',\n",
       " 'Pred:Maltese_dog, Act:Maltese_dog',\n",
       " 'Pred:miniature_pinscher, Act:miniature_pinscher',\n",
       " 'Pred:Scottish_deerhound, Act:Scottish_deerhound',\n",
       " 'Pred:basenji, Act:basenji',\n",
       " 'Pred:EntleBucher, Act:EntleBucher',\n",
       " 'Pred:Kerry_blue_terrier, Act:Kerry_blue_terrier')"
      ]
     },
     "metadata": {},
     "execution_count": 41
    }
   ],
   "metadata": {}
  },
  {
   "cell_type": "code",
   "execution_count": null,
   "source": [
    "'/Users/ilya/Desktop/U-Capstone/Images/n02087394-Rhodesian_ridgeback/n02087394_381.jpg'"
   ],
   "outputs": [],
   "metadata": {}
  },
  {
   "cell_type": "code",
   "execution_count": 45,
   "source": [
    "directory = '/Users/ilya/Desktop/U-Capstone/Images'\n",
    "\n",
    "fig = make_subplots(rows=1, cols=10, subplot_titles=tuple_of_labels)\n",
    "\n",
    "for label, image_id, i in zip(top_true_labels['breed_label'], top_true_labels['image_id'], range(1, len(top_true_labels)+1)):\n",
    "    \n",
    "    path = os.path.join(directory, image_id[0:9]+'-'+label, image_id)\n",
    "    \n",
    "    img = io.imread(path)\n",
    "    \n",
    "    fig.add_trace(go.Image(z=img), 1, i)\n",
    "\n",
    "fig.show()\n"
   ],
   "outputs": [],
   "metadata": {}
  },
  {
   "cell_type": "code",
   "execution_count": null,
   "source": [],
   "outputs": [],
   "metadata": {}
  },
  {
   "cell_type": "code",
   "execution_count": 48,
   "source": [
    "samoyed = img_to_np_array('/Users/ilya/Desktop/russian-bee.png').reshape(1,60,60,1)"
   ],
   "outputs": [
    {
     "output_type": "error",
     "ename": "ValueError",
     "evalue": "cannot reshape array of size 40000 into shape (1,60,60,1)",
     "traceback": [
      "\u001b[0;31m---------------------------------------------------------------------------\u001b[0m",
      "\u001b[0;31mValueError\u001b[0m                                Traceback (most recent call last)",
      "\u001b[0;32m<ipython-input-48-7596b5670b48>\u001b[0m in \u001b[0;36m<module>\u001b[0;34m\u001b[0m\n\u001b[0;32m----> 1\u001b[0;31m \u001b[0msamoyed\u001b[0m \u001b[0;34m=\u001b[0m \u001b[0mimg_to_np_array\u001b[0m\u001b[0;34m(\u001b[0m\u001b[0;34m'/Users/ilya/Desktop/russian-bee.png'\u001b[0m\u001b[0;34m)\u001b[0m\u001b[0;34m.\u001b[0m\u001b[0mreshape\u001b[0m\u001b[0;34m(\u001b[0m\u001b[0;36m1\u001b[0m\u001b[0;34m,\u001b[0m\u001b[0;36m60\u001b[0m\u001b[0;34m,\u001b[0m\u001b[0;36m60\u001b[0m\u001b[0;34m,\u001b[0m\u001b[0;36m1\u001b[0m\u001b[0;34m)\u001b[0m\u001b[0;34m\u001b[0m\u001b[0;34m\u001b[0m\u001b[0m\n\u001b[0m",
      "\u001b[0;31mValueError\u001b[0m: cannot reshape array of size 40000 into shape (1,60,60,1)"
     ]
    }
   ],
   "metadata": {}
  },
  {
   "cell_type": "code",
   "execution_count": 46,
   "source": [
    "prediction = model.predict(samoyed)"
   ],
   "outputs": [],
   "metadata": {}
  },
  {
   "cell_type": "code",
   "execution_count": 57,
   "source": [
    "%pprint"
   ],
   "outputs": [
    {
     "output_type": "stream",
     "name": "stdout",
     "text": [
      "Pretty printing has been turned OFF\n"
     ]
    }
   ],
   "metadata": {}
  },
  {
   "cell_type": "code",
   "execution_count": 47,
   "source": [
    "label_list = list(train_labels_df.columns)\n",
    "label_list"
   ],
   "outputs": [
    {
     "output_type": "execute_result",
     "data": {
      "text/plain": [
       "['Afghan_hound',\n",
       " 'Airedale',\n",
       " 'Bernese_mountain_dog',\n",
       " 'EntleBucher',\n",
       " 'Great_Pyrenees',\n",
       " 'Irish_wolfhound',\n",
       " 'Leonberg',\n",
       " 'Maltese_dog',\n",
       " 'Pomeranian',\n",
       " 'Samoyed',\n",
       " 'Scottish_deerhound',\n",
       " 'Sealyham_terrier',\n",
       " 'Shih',\n",
       " 'Tibetan_terrier',\n",
       " 'basenji']"
      ]
     },
     "metadata": {},
     "execution_count": 47
    }
   ],
   "metadata": {}
  },
  {
   "cell_type": "code",
   "execution_count": 48,
   "source": [
    "prediction_list = list(prediction[0])\n",
    "prediction_list"
   ],
   "outputs": [
    {
     "output_type": "execute_result",
     "data": {
      "text/plain": [
       "[0.061776843,\n",
       " 0.06985099,\n",
       " 0.05059278,\n",
       " 0.056825694,\n",
       " 0.05707421,\n",
       " 0.05678923,\n",
       " 0.06951023,\n",
       " 0.08338115,\n",
       " 0.094307125,\n",
       " 0.055790253,\n",
       " 0.070337705,\n",
       " 0.07566053,\n",
       " 0.06818018,\n",
       " 0.06824093,\n",
       " 0.06168212]"
      ]
     },
     "metadata": {},
     "execution_count": 48
    }
   ],
   "metadata": {}
  },
  {
   "cell_type": "code",
   "execution_count": 49,
   "source": [
    "predict_dict = {}\n",
    "\n",
    "for a, b in zip(label_list, prediction_list):\n",
    "    predict_dict[a] = b"
   ],
   "outputs": [],
   "metadata": {}
  },
  {
   "cell_type": "code",
   "execution_count": 50,
   "source": [
    "predict_dict"
   ],
   "outputs": [
    {
     "output_type": "execute_result",
     "data": {
      "text/plain": [
       "{'Afghan_hound': 0.061776843,\n",
       " 'Airedale': 0.06985099,\n",
       " 'Bernese_mountain_dog': 0.05059278,\n",
       " 'EntleBucher': 0.056825694,\n",
       " 'Great_Pyrenees': 0.05707421,\n",
       " 'Irish_wolfhound': 0.05678923,\n",
       " 'Leonberg': 0.06951023,\n",
       " 'Maltese_dog': 0.08338115,\n",
       " 'Pomeranian': 0.094307125,\n",
       " 'Samoyed': 0.055790253,\n",
       " 'Scottish_deerhound': 0.070337705,\n",
       " 'Sealyham_terrier': 0.07566053,\n",
       " 'Shih': 0.06818018,\n",
       " 'Tibetan_terrier': 0.06824093,\n",
       " 'basenji': 0.06168212}"
      ]
     },
     "metadata": {},
     "execution_count": 50
    }
   ],
   "metadata": {}
  },
  {
   "cell_type": "code",
   "execution_count": null,
   "source": [],
   "outputs": [],
   "metadata": {}
  }
 ],
 "metadata": {
  "interpreter": {
   "hash": "dca0ade3e726a953b501b15e8e990130d2b7799f14cfd9f4271676035ebe5511"
  },
  "kernelspec": {
   "name": "python3",
   "display_name": "Python 3.7.4 64-bit ('base': conda)"
  },
  "language_info": {
   "codemirror_mode": {
    "name": "ipython",
    "version": 3
   },
   "file_extension": ".py",
   "mimetype": "text/x-python",
   "name": "python",
   "nbconvert_exporter": "python",
   "pygments_lexer": "ipython3",
   "version": "3.7.4"
  }
 },
 "nbformat": 4,
 "nbformat_minor": 2
}